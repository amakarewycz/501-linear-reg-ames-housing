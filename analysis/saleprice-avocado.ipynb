{
 "cells": [
  {
   "cell_type": "markdown",
   "id": "conceptual-wellington",
   "metadata": {},
   "source": [
    "## Avocado: Linear Regression Example"
   ]
  },
  {
   "cell_type": "code",
   "execution_count": 2,
   "id": "flush-thomson",
   "metadata": {},
   "outputs": [],
   "source": [
    "import pandas as pd\n",
    "from sklearn.linear_model import LinearRegression\n",
    "from sklearn.model_selection import train_test_split\n",
    "from sklearn import metrics\n",
    "import matplotlib.pyplot as plt\n",
    "import seaborn as sns\n",
    "import numpy as np\n",
    "from math import sqrt\n",
    "pd.set_option('display.max_rows', 500)\n",
    "pd.set_option('display.max_columns', 500)\n",
    "pd.set_option('display.width', 1000)"
   ]
  },
  {
   "cell_type": "code",
   "execution_count": 3,
   "id": "ceramic-valve",
   "metadata": {},
   "outputs": [
    {
     "data": {
      "text/plain": [
       "(18249, 14)"
      ]
     },
     "execution_count": 3,
     "metadata": {},
     "output_type": "execute_result"
    }
   ],
   "source": [
    "df = pd.read_csv('../data/avocado.csv')\n",
    "df.shape"
   ]
  },
  {
   "cell_type": "code",
   "execution_count": 4,
   "id": "young-weight",
   "metadata": {},
   "outputs": [
    {
     "data": {
      "text/html": [
       "<div>\n",
       "<style scoped>\n",
       "    .dataframe tbody tr th:only-of-type {\n",
       "        vertical-align: middle;\n",
       "    }\n",
       "\n",
       "    .dataframe tbody tr th {\n",
       "        vertical-align: top;\n",
       "    }\n",
       "\n",
       "    .dataframe thead th {\n",
       "        text-align: right;\n",
       "    }\n",
       "</style>\n",
       "<table border=\"1\" class=\"dataframe\">\n",
       "  <thead>\n",
       "    <tr style=\"text-align: right;\">\n",
       "      <th></th>\n",
       "      <th>0</th>\n",
       "      <th>1</th>\n",
       "    </tr>\n",
       "  </thead>\n",
       "  <tbody>\n",
       "    <tr>\n",
       "      <th>Unnamed: 0</th>\n",
       "      <td>0</td>\n",
       "      <td>1</td>\n",
       "    </tr>\n",
       "    <tr>\n",
       "      <th>Date</th>\n",
       "      <td>2015-12-27</td>\n",
       "      <td>2015-12-20</td>\n",
       "    </tr>\n",
       "    <tr>\n",
       "      <th>AveragePrice</th>\n",
       "      <td>1.33</td>\n",
       "      <td>1.35</td>\n",
       "    </tr>\n",
       "    <tr>\n",
       "      <th>Total Volume</th>\n",
       "      <td>64236.62</td>\n",
       "      <td>54876.98</td>\n",
       "    </tr>\n",
       "    <tr>\n",
       "      <th>4046</th>\n",
       "      <td>1036.74</td>\n",
       "      <td>674.28</td>\n",
       "    </tr>\n",
       "    <tr>\n",
       "      <th>4225</th>\n",
       "      <td>54454.85</td>\n",
       "      <td>44638.81</td>\n",
       "    </tr>\n",
       "    <tr>\n",
       "      <th>4770</th>\n",
       "      <td>48.16</td>\n",
       "      <td>58.33</td>\n",
       "    </tr>\n",
       "    <tr>\n",
       "      <th>Total Bags</th>\n",
       "      <td>8696.87</td>\n",
       "      <td>9505.56</td>\n",
       "    </tr>\n",
       "    <tr>\n",
       "      <th>Small Bags</th>\n",
       "      <td>8603.62</td>\n",
       "      <td>9408.07</td>\n",
       "    </tr>\n",
       "    <tr>\n",
       "      <th>Large Bags</th>\n",
       "      <td>93.25</td>\n",
       "      <td>97.49</td>\n",
       "    </tr>\n",
       "    <tr>\n",
       "      <th>XLarge Bags</th>\n",
       "      <td>0.0</td>\n",
       "      <td>0.0</td>\n",
       "    </tr>\n",
       "    <tr>\n",
       "      <th>type</th>\n",
       "      <td>conventional</td>\n",
       "      <td>conventional</td>\n",
       "    </tr>\n",
       "    <tr>\n",
       "      <th>year</th>\n",
       "      <td>2015</td>\n",
       "      <td>2015</td>\n",
       "    </tr>\n",
       "    <tr>\n",
       "      <th>region</th>\n",
       "      <td>Albany</td>\n",
       "      <td>Albany</td>\n",
       "    </tr>\n",
       "  </tbody>\n",
       "</table>\n",
       "</div>"
      ],
      "text/plain": [
       "                         0             1\n",
       "Unnamed: 0               0             1\n",
       "Date            2015-12-27    2015-12-20\n",
       "AveragePrice          1.33          1.35\n",
       "Total Volume      64236.62      54876.98\n",
       "4046               1036.74        674.28\n",
       "4225              54454.85      44638.81\n",
       "4770                 48.16         58.33\n",
       "Total Bags         8696.87       9505.56\n",
       "Small Bags         8603.62       9408.07\n",
       "Large Bags           93.25         97.49\n",
       "XLarge Bags            0.0           0.0\n",
       "type          conventional  conventional\n",
       "year                  2015          2015\n",
       "region              Albany        Albany"
      ]
     },
     "execution_count": 4,
     "metadata": {},
     "output_type": "execute_result"
    }
   ],
   "source": [
    "df.head(2).T"
   ]
  },
  {
   "cell_type": "markdown",
   "id": "expected-finish",
   "metadata": {},
   "source": [
    "## Exploratory data analysis"
   ]
  },
  {
   "cell_type": "code",
   "execution_count": 5,
   "id": "thousand-difference",
   "metadata": {},
   "outputs": [
    {
     "name": "stdout",
     "output_type": "stream",
     "text": [
      "count    18249.000000\n",
      "mean         1.405978\n",
      "std          0.402677\n",
      "min          0.440000\n",
      "25%          1.100000\n",
      "50%          1.370000\n",
      "75%          1.660000\n",
      "max          3.250000\n",
      "Name: AveragePrice, dtype: float64\n"
     ]
    }
   ],
   "source": [
    "# target\n",
    "print(df['AveragePrice'].describe())"
   ]
  },
  {
   "cell_type": "code",
   "execution_count": 6,
   "id": "falling-graph",
   "metadata": {},
   "outputs": [
    {
     "name": "stdout",
     "output_type": "stream",
     "text": [
      "18249\n",
      "2.6140080762625297\n",
      "18118\n"
     ]
    }
   ],
   "source": [
    "# remove extreme outliers\n",
    "print(df.shape[0])\n",
    "cutpoint = df['AveragePrice'].mean()+3* df['AveragePrice'].std()\n",
    "print(cutpoint)\n",
    "df=df[df['AveragePrice']<=cutpoint].copy()\n",
    "print(df.shape[0])"
   ]
  },
  {
   "cell_type": "code",
   "execution_count": 9,
   "id": "b2db37a0-3ac4-4663-801b-0f06bef48baf",
   "metadata": {},
   "outputs": [
    {
     "name": "stdout",
     "output_type": "stream",
     "text": [
      "count      18118\n",
      "unique        54\n",
      "top       Albany\n",
      "freq         338\n",
      "Name: region, dtype: object\n"
     ]
    }
   ],
   "source": [
    "print(df['region'].describe())"
   ]
  },
  {
   "cell_type": "code",
   "execution_count": 80,
   "id": "0d02143d-ddc3-40c9-a50c-122b68eb62e5",
   "metadata": {},
   "outputs": [
    {
     "data": {
      "text/plain": [
       "array(['Albany', 'Atlanta', 'BaltimoreWashington', 'Boise', 'Boston',\n",
       "       'BuffaloRochester', 'California', 'Charlotte', 'Chicago',\n",
       "       'CincinnatiDayton', 'Columbus', 'DallasFtWorth', 'Denver',\n",
       "       'Detroit', 'GrandRapids', 'GreatLakes', 'HarrisburgScranton',\n",
       "       'HartfordSpringfield', 'Houston', 'Indianapolis', 'Jacksonville',\n",
       "       'LasVegas', 'LosAngeles', 'Louisville', 'MiamiFtLauderdale',\n",
       "       'Midsouth', 'Nashville', 'NewOrleansMobile', 'NewYork',\n",
       "       'Northeast', 'NorthernNewEngland', 'Orlando', 'Philadelphia',\n",
       "       'PhoenixTucson', 'Pittsburgh', 'Plains', 'Portland',\n",
       "       'RaleighGreensboro', 'RichmondNorfolk', 'Roanoke', 'Sacramento',\n",
       "       'SanDiego', 'SanFrancisco', 'Seattle', 'SouthCarolina',\n",
       "       'SouthCentral', 'Southeast', 'Spokane', 'StLouis', 'Syracuse',\n",
       "       'Tampa', 'TotalUS', 'West', 'WestTexNewMexico'], dtype=object)"
      ]
     },
     "execution_count": 80,
     "metadata": {},
     "output_type": "execute_result"
    }
   ],
   "source": [
    "countries=df['region'].unique()\n",
    "countries"
   ]
  },
  {
   "cell_type": "code",
   "execution_count": 90,
   "id": "197c7d5b-4643-4038-a543-436282674126",
   "metadata": {},
   "outputs": [
    {
     "data": {
      "text/plain": [
       "15539     GreatLakes\n",
       "8299           Tampa\n",
       "15483    GrandRapids\n",
       "2691         TotalUS\n",
       "11951         Albany\n",
       "Name: region, dtype: object"
      ]
     },
     "execution_count": 90,
     "metadata": {},
     "output_type": "execute_result"
    }
   ],
   "source": [
    "scountries =  df['region'].sample(5)\n",
    "scountries"
   ]
  },
  {
   "cell_type": "code",
   "execution_count": 101,
   "id": "f7c85875-6228-46f3-a27b-8b5b8cf1734c",
   "metadata": {},
   "outputs": [],
   "source": [
    "df = df[df['region'].isin(['Albany','Spokane','SanFrancisco'])]"
   ]
  },
  {
   "cell_type": "code",
   "execution_count": 102,
   "id": "1fb94c49-cd23-4149-8bcc-7ef0488ee491",
   "metadata": {},
   "outputs": [],
   "source": [
    "countries=['Albany','Spokane','SanFrancisco']"
   ]
  },
  {
   "cell_type": "code",
   "execution_count": null,
   "id": "fe972972-d33c-49a3-b1db-3cbf0ebe8b80",
   "metadata": {},
   "outputs": [],
   "source": []
  },
  {
   "cell_type": "code",
   "execution_count": null,
   "id": "1bde8bfe-8809-4dd0-ae32-c15f01fb1e4a",
   "metadata": {},
   "outputs": [],
   "source": []
  },
  {
   "cell_type": "code",
   "execution_count": 103,
   "id": "0a1a5aa1-5f61-417e-bd5b-390513cbded5",
   "metadata": {},
   "outputs": [
    {
     "data": {
      "text/html": [
       "<div>\n",
       "<style scoped>\n",
       "    .dataframe tbody tr th:only-of-type {\n",
       "        vertical-align: middle;\n",
       "    }\n",
       "\n",
       "    .dataframe tbody tr th {\n",
       "        vertical-align: top;\n",
       "    }\n",
       "\n",
       "    .dataframe thead th {\n",
       "        text-align: right;\n",
       "    }\n",
       "</style>\n",
       "<table border=\"1\" class=\"dataframe\">\n",
       "  <thead>\n",
       "    <tr style=\"text-align: right;\">\n",
       "      <th></th>\n",
       "      <th>Region_Albany</th>\n",
       "      <th>Region_SanFrancisco</th>\n",
       "      <th>Region_Spokane</th>\n",
       "    </tr>\n",
       "  </thead>\n",
       "  <tbody>\n",
       "    <tr>\n",
       "      <th>0</th>\n",
       "      <td>1</td>\n",
       "      <td>0</td>\n",
       "      <td>0</td>\n",
       "    </tr>\n",
       "    <tr>\n",
       "      <th>1</th>\n",
       "      <td>0</td>\n",
       "      <td>0</td>\n",
       "      <td>1</td>\n",
       "    </tr>\n",
       "    <tr>\n",
       "      <th>2</th>\n",
       "      <td>0</td>\n",
       "      <td>1</td>\n",
       "      <td>0</td>\n",
       "    </tr>\n",
       "  </tbody>\n",
       "</table>\n",
       "</div>"
      ],
      "text/plain": [
       "   Region_Albany  Region_SanFrancisco  Region_Spokane\n",
       "0              1                    0               0\n",
       "1              0                    0               1\n",
       "2              0                    1               0"
      ]
     },
     "execution_count": 103,
     "metadata": {},
     "output_type": "execute_result"
    }
   ],
   "source": [
    "reg_onehot=pd.get_dummies(pd.DataFrame(countries,columns=[\"Region\"]),prefix='Region')\n",
    "reg_onehot"
   ]
  },
  {
   "cell_type": "code",
   "execution_count": 104,
   "id": "a2f013ac-2113-4e9c-b2a4-a209b2b0b256",
   "metadata": {},
   "outputs": [
    {
     "data": {
      "text/html": [
       "<div>\n",
       "<style scoped>\n",
       "    .dataframe tbody tr th:only-of-type {\n",
       "        vertical-align: middle;\n",
       "    }\n",
       "\n",
       "    .dataframe tbody tr th {\n",
       "        vertical-align: top;\n",
       "    }\n",
       "\n",
       "    .dataframe thead th {\n",
       "        text-align: right;\n",
       "    }\n",
       "</style>\n",
       "<table border=\"1\" class=\"dataframe\">\n",
       "  <thead>\n",
       "    <tr style=\"text-align: right;\">\n",
       "      <th></th>\n",
       "      <th>Albany</th>\n",
       "      <th>SanFrancisco</th>\n",
       "      <th>Spokane</th>\n",
       "    </tr>\n",
       "  </thead>\n",
       "  <tbody>\n",
       "    <tr>\n",
       "      <th>0</th>\n",
       "      <td>1</td>\n",
       "      <td>0</td>\n",
       "      <td>0</td>\n",
       "    </tr>\n",
       "    <tr>\n",
       "      <th>1</th>\n",
       "      <td>1</td>\n",
       "      <td>0</td>\n",
       "      <td>0</td>\n",
       "    </tr>\n",
       "    <tr>\n",
       "      <th>2</th>\n",
       "      <td>1</td>\n",
       "      <td>0</td>\n",
       "      <td>0</td>\n",
       "    </tr>\n",
       "    <tr>\n",
       "      <th>3</th>\n",
       "      <td>1</td>\n",
       "      <td>0</td>\n",
       "      <td>0</td>\n",
       "    </tr>\n",
       "    <tr>\n",
       "      <th>4</th>\n",
       "      <td>1</td>\n",
       "      <td>0</td>\n",
       "      <td>0</td>\n",
       "    </tr>\n",
       "    <tr>\n",
       "      <th>...</th>\n",
       "      <td>...</td>\n",
       "      <td>...</td>\n",
       "      <td>...</td>\n",
       "    </tr>\n",
       "    <tr>\n",
       "      <th>18172</th>\n",
       "      <td>0</td>\n",
       "      <td>0</td>\n",
       "      <td>1</td>\n",
       "    </tr>\n",
       "    <tr>\n",
       "      <th>18173</th>\n",
       "      <td>0</td>\n",
       "      <td>0</td>\n",
       "      <td>1</td>\n",
       "    </tr>\n",
       "    <tr>\n",
       "      <th>18174</th>\n",
       "      <td>0</td>\n",
       "      <td>0</td>\n",
       "      <td>1</td>\n",
       "    </tr>\n",
       "    <tr>\n",
       "      <th>18175</th>\n",
       "      <td>0</td>\n",
       "      <td>0</td>\n",
       "      <td>1</td>\n",
       "    </tr>\n",
       "    <tr>\n",
       "      <th>18176</th>\n",
       "      <td>0</td>\n",
       "      <td>0</td>\n",
       "      <td>1</td>\n",
       "    </tr>\n",
       "  </tbody>\n",
       "</table>\n",
       "<p>967 rows × 3 columns</p>\n",
       "</div>"
      ],
      "text/plain": [
       "       Albany  SanFrancisco  Spokane\n",
       "0           1             0        0\n",
       "1           1             0        0\n",
       "2           1             0        0\n",
       "3           1             0        0\n",
       "4           1             0        0\n",
       "...       ...           ...      ...\n",
       "18172       0             0        1\n",
       "18173       0             0        1\n",
       "18174       0             0        1\n",
       "18175       0             0        1\n",
       "18176       0             0        1\n",
       "\n",
       "[967 rows x 3 columns]"
      ]
     },
     "execution_count": 104,
     "metadata": {},
     "output_type": "execute_result"
    }
   ],
   "source": [
    "al=pd.get_dummies(df['region'])\n",
    "al"
   ]
  },
  {
   "cell_type": "code",
   "execution_count": 37,
   "id": "73af6d99-1eb4-4a95-9543-b68de48e13ef",
   "metadata": {},
   "outputs": [],
   "source": [
    "build_dict = lambda test_keys, test_values : {test_keys[i]: test_values[i] for i in range(len(test_keys))}\n",
    "prefix_column = lambda colist, prefix : [prefix + i for i in colist]\n",
    "\n"
   ]
  },
  {
   "cell_type": "code",
   "execution_count": 105,
   "id": "d9ad22fa-f541-4deb-87d3-6ba1459dc5ba",
   "metadata": {},
   "outputs": [],
   "source": [
    "pcols=prefix_column(al.columns,'Region'+\".\")"
   ]
  },
  {
   "cell_type": "code",
   "execution_count": 106,
   "id": "a49cf844-6b06-4805-b99c-9008c5c60777",
   "metadata": {},
   "outputs": [
    {
     "data": {
      "text/plain": [
       "{'Albany': 'Region.Albany',\n",
       " 'SanFrancisco': 'Region.SanFrancisco',\n",
       " 'Spokane': 'Region.Spokane'}"
      ]
     },
     "execution_count": 106,
     "metadata": {},
     "output_type": "execute_result"
    }
   ],
   "source": [
    "d=build_dict(al.columns,pcols)\n",
    "d"
   ]
  },
  {
   "cell_type": "code",
   "execution_count": 107,
   "id": "a7585ef4-2920-4ae3-8601-0bf78f94a26a",
   "metadata": {},
   "outputs": [],
   "source": [
    "al.rename(columns=d,inplace=True)"
   ]
  },
  {
   "cell_type": "code",
   "execution_count": 108,
   "id": "c0ca733f-6f42-40fa-b7af-ad97eb1be61c",
   "metadata": {},
   "outputs": [
    {
     "data": {
      "text/html": [
       "<div>\n",
       "<style scoped>\n",
       "    .dataframe tbody tr th:only-of-type {\n",
       "        vertical-align: middle;\n",
       "    }\n",
       "\n",
       "    .dataframe tbody tr th {\n",
       "        vertical-align: top;\n",
       "    }\n",
       "\n",
       "    .dataframe thead th {\n",
       "        text-align: right;\n",
       "    }\n",
       "</style>\n",
       "<table border=\"1\" class=\"dataframe\">\n",
       "  <thead>\n",
       "    <tr style=\"text-align: right;\">\n",
       "      <th></th>\n",
       "      <th>Region.Albany</th>\n",
       "      <th>Region.SanFrancisco</th>\n",
       "      <th>Region.Spokane</th>\n",
       "    </tr>\n",
       "  </thead>\n",
       "  <tbody>\n",
       "    <tr>\n",
       "      <th>0</th>\n",
       "      <td>1</td>\n",
       "      <td>0</td>\n",
       "      <td>0</td>\n",
       "    </tr>\n",
       "    <tr>\n",
       "      <th>1</th>\n",
       "      <td>1</td>\n",
       "      <td>0</td>\n",
       "      <td>0</td>\n",
       "    </tr>\n",
       "    <tr>\n",
       "      <th>2</th>\n",
       "      <td>1</td>\n",
       "      <td>0</td>\n",
       "      <td>0</td>\n",
       "    </tr>\n",
       "    <tr>\n",
       "      <th>3</th>\n",
       "      <td>1</td>\n",
       "      <td>0</td>\n",
       "      <td>0</td>\n",
       "    </tr>\n",
       "    <tr>\n",
       "      <th>4</th>\n",
       "      <td>1</td>\n",
       "      <td>0</td>\n",
       "      <td>0</td>\n",
       "    </tr>\n",
       "    <tr>\n",
       "      <th>...</th>\n",
       "      <td>...</td>\n",
       "      <td>...</td>\n",
       "      <td>...</td>\n",
       "    </tr>\n",
       "    <tr>\n",
       "      <th>18172</th>\n",
       "      <td>0</td>\n",
       "      <td>0</td>\n",
       "      <td>1</td>\n",
       "    </tr>\n",
       "    <tr>\n",
       "      <th>18173</th>\n",
       "      <td>0</td>\n",
       "      <td>0</td>\n",
       "      <td>1</td>\n",
       "    </tr>\n",
       "    <tr>\n",
       "      <th>18174</th>\n",
       "      <td>0</td>\n",
       "      <td>0</td>\n",
       "      <td>1</td>\n",
       "    </tr>\n",
       "    <tr>\n",
       "      <th>18175</th>\n",
       "      <td>0</td>\n",
       "      <td>0</td>\n",
       "      <td>1</td>\n",
       "    </tr>\n",
       "    <tr>\n",
       "      <th>18176</th>\n",
       "      <td>0</td>\n",
       "      <td>0</td>\n",
       "      <td>1</td>\n",
       "    </tr>\n",
       "  </tbody>\n",
       "</table>\n",
       "<p>967 rows × 3 columns</p>\n",
       "</div>"
      ],
      "text/plain": [
       "       Region.Albany  Region.SanFrancisco  Region.Spokane\n",
       "0                  1                    0               0\n",
       "1                  1                    0               0\n",
       "2                  1                    0               0\n",
       "3                  1                    0               0\n",
       "4                  1                    0               0\n",
       "...              ...                  ...             ...\n",
       "18172              0                    0               1\n",
       "18173              0                    0               1\n",
       "18174              0                    0               1\n",
       "18175              0                    0               1\n",
       "18176              0                    0               1\n",
       "\n",
       "[967 rows x 3 columns]"
      ]
     },
     "execution_count": 108,
     "metadata": {},
     "output_type": "execute_result"
    }
   ],
   "source": [
    "al"
   ]
  },
  {
   "cell_type": "code",
   "execution_count": 67,
   "id": "de57e447-3cc2-4e4c-bb81-5530f91ecf2f",
   "metadata": {},
   "outputs": [
    {
     "data": {
      "text/html": [
       "<div>\n",
       "<style scoped>\n",
       "    .dataframe tbody tr th:only-of-type {\n",
       "        vertical-align: middle;\n",
       "    }\n",
       "\n",
       "    .dataframe tbody tr th {\n",
       "        vertical-align: top;\n",
       "    }\n",
       "\n",
       "    .dataframe thead th {\n",
       "        text-align: right;\n",
       "    }\n",
       "</style>\n",
       "<table border=\"1\" class=\"dataframe\">\n",
       "  <thead>\n",
       "    <tr style=\"text-align: right;\">\n",
       "      <th></th>\n",
       "      <th>Region.Detroit</th>\n",
       "      <th>Region.Jacksonville</th>\n",
       "      <th>Region.LasVegas</th>\n",
       "      <th>Region.Louisville</th>\n",
       "      <th>Region.SanFrancisco</th>\n",
       "    </tr>\n",
       "  </thead>\n",
       "  <tbody>\n",
       "    <tr>\n",
       "      <th>13131</th>\n",
       "      <td>0</td>\n",
       "      <td>0</td>\n",
       "      <td>0</td>\n",
       "      <td>1</td>\n",
       "      <td>0</td>\n",
       "    </tr>\n",
       "    <tr>\n",
       "      <th>3535</th>\n",
       "      <td>1</td>\n",
       "      <td>0</td>\n",
       "      <td>0</td>\n",
       "      <td>0</td>\n",
       "      <td>0</td>\n",
       "    </tr>\n",
       "    <tr>\n",
       "      <th>11360</th>\n",
       "      <td>0</td>\n",
       "      <td>0</td>\n",
       "      <td>0</td>\n",
       "      <td>0</td>\n",
       "      <td>1</td>\n",
       "    </tr>\n",
       "    <tr>\n",
       "      <th>3928</th>\n",
       "      <td>0</td>\n",
       "      <td>0</td>\n",
       "      <td>1</td>\n",
       "      <td>0</td>\n",
       "      <td>0</td>\n",
       "    </tr>\n",
       "    <tr>\n",
       "      <th>3896</th>\n",
       "      <td>0</td>\n",
       "      <td>1</td>\n",
       "      <td>0</td>\n",
       "      <td>0</td>\n",
       "      <td>0</td>\n",
       "    </tr>\n",
       "  </tbody>\n",
       "</table>\n",
       "</div>"
      ],
      "text/plain": [
       "       Region.Detroit  Region.Jacksonville  Region.LasVegas  Region.Louisville  Region.SanFrancisco\n",
       "13131               0                    0                0                  1                    0\n",
       "3535                1                    0                0                  0                    0\n",
       "11360               0                    0                0                  0                    1\n",
       "3928                0                    0                1                  0                    0\n",
       "3896                0                    1                0                  0                    0"
      ]
     },
     "execution_count": 67,
     "metadata": {},
     "output_type": "execute_result"
    }
   ],
   "source": [
    "bal=al.copy()\n",
    "bal"
   ]
  },
  {
   "cell_type": "code",
   "execution_count": 77,
   "id": "0858ff3f-9dbc-4fcc-8ff1-289cd7054e6d",
   "metadata": {},
   "outputs": [
    {
     "data": {
      "text/html": [
       "<div>\n",
       "<style scoped>\n",
       "    .dataframe tbody tr th:only-of-type {\n",
       "        vertical-align: middle;\n",
       "    }\n",
       "\n",
       "    .dataframe tbody tr th {\n",
       "        vertical-align: top;\n",
       "    }\n",
       "\n",
       "    .dataframe thead th {\n",
       "        text-align: right;\n",
       "    }\n",
       "</style>\n",
       "<table border=\"1\" class=\"dataframe\">\n",
       "  <thead>\n",
       "    <tr style=\"text-align: right;\">\n",
       "      <th></th>\n",
       "      <th>Region.Jacksonville</th>\n",
       "      <th>Region.LasVegas</th>\n",
       "      <th>Region.Louisville</th>\n",
       "      <th>Region.SanFrancisco</th>\n",
       "    </tr>\n",
       "  </thead>\n",
       "  <tbody>\n",
       "    <tr>\n",
       "      <th>13131</th>\n",
       "      <td>0</td>\n",
       "      <td>0</td>\n",
       "      <td>1</td>\n",
       "      <td>0</td>\n",
       "    </tr>\n",
       "    <tr>\n",
       "      <th>3535</th>\n",
       "      <td>0</td>\n",
       "      <td>0</td>\n",
       "      <td>0</td>\n",
       "      <td>0</td>\n",
       "    </tr>\n",
       "    <tr>\n",
       "      <th>11360</th>\n",
       "      <td>0</td>\n",
       "      <td>0</td>\n",
       "      <td>0</td>\n",
       "      <td>1</td>\n",
       "    </tr>\n",
       "    <tr>\n",
       "      <th>3928</th>\n",
       "      <td>0</td>\n",
       "      <td>1</td>\n",
       "      <td>0</td>\n",
       "      <td>0</td>\n",
       "    </tr>\n",
       "    <tr>\n",
       "      <th>3896</th>\n",
       "      <td>1</td>\n",
       "      <td>0</td>\n",
       "      <td>0</td>\n",
       "      <td>0</td>\n",
       "    </tr>\n",
       "  </tbody>\n",
       "</table>\n",
       "</div>"
      ],
      "text/plain": [
       "       Region.Jacksonville  Region.LasVegas  Region.Louisville  Region.SanFrancisco\n",
       "13131                    0                0                  1                    0\n",
       "3535                     0                0                  0                    0\n",
       "11360                    0                0                  0                    1\n",
       "3928                     0                1                  0                    0\n",
       "3896                     1                0                  0                    0"
      ]
     },
     "execution_count": 77,
     "metadata": {},
     "output_type": "execute_result"
    }
   ],
   "source": [
    "bal[bal.columns[1:]].apply(lambda x:  x,axis=1)"
   ]
  },
  {
   "cell_type": "code",
   "execution_count": 109,
   "id": "61dcb6d1-3881-4d58-9858-5db32cadf196",
   "metadata": {},
   "outputs": [],
   "source": [
    "ef=pd.concat([df,al],axis='columns')"
   ]
  },
  {
   "cell_type": "code",
   "execution_count": 110,
   "id": "f8f9b0e2-1760-4d9b-a70e-842e4d247a4c",
   "metadata": {},
   "outputs": [
    {
     "data": {
      "text/html": [
       "<div>\n",
       "<style scoped>\n",
       "    .dataframe tbody tr th:only-of-type {\n",
       "        vertical-align: middle;\n",
       "    }\n",
       "\n",
       "    .dataframe tbody tr th {\n",
       "        vertical-align: top;\n",
       "    }\n",
       "\n",
       "    .dataframe thead th {\n",
       "        text-align: right;\n",
       "    }\n",
       "</style>\n",
       "<table border=\"1\" class=\"dataframe\">\n",
       "  <thead>\n",
       "    <tr style=\"text-align: right;\">\n",
       "      <th></th>\n",
       "      <th>Unnamed: 0</th>\n",
       "      <th>AveragePrice</th>\n",
       "      <th>Total Volume</th>\n",
       "      <th>4046</th>\n",
       "      <th>4225</th>\n",
       "      <th>4770</th>\n",
       "      <th>Total Bags</th>\n",
       "      <th>Small Bags</th>\n",
       "      <th>Large Bags</th>\n",
       "      <th>XLarge Bags</th>\n",
       "      <th>year</th>\n",
       "      <th>Region.Albany</th>\n",
       "      <th>Region.SanFrancisco</th>\n",
       "      <th>Region.Spokane</th>\n",
       "    </tr>\n",
       "  </thead>\n",
       "  <tbody>\n",
       "    <tr>\n",
       "      <th>count</th>\n",
       "      <td>967.000000</td>\n",
       "      <td>967.000000</td>\n",
       "      <td>9.670000e+02</td>\n",
       "      <td>967.000000</td>\n",
       "      <td>9.670000e+02</td>\n",
       "      <td>967.000000</td>\n",
       "      <td>967.000000</td>\n",
       "      <td>967.000000</td>\n",
       "      <td>967.000000</td>\n",
       "      <td>967.000000</td>\n",
       "      <td>967.000000</td>\n",
       "      <td>967.000000</td>\n",
       "      <td>967.000000</td>\n",
       "      <td>967.000000</td>\n",
       "    </tr>\n",
       "    <tr>\n",
       "      <th>mean</th>\n",
       "      <td>24.453981</td>\n",
       "      <td>1.545119</td>\n",
       "      <td>1.724653e+05</td>\n",
       "      <td>39985.871861</td>\n",
       "      <td>1.038115e+05</td>\n",
       "      <td>4120.477735</td>\n",
       "      <td>24547.428242</td>\n",
       "      <td>22790.804209</td>\n",
       "      <td>1485.438594</td>\n",
       "      <td>271.186474</td>\n",
       "      <td>2016.142709</td>\n",
       "      <td>0.349535</td>\n",
       "      <td>0.311272</td>\n",
       "      <td>0.339193</td>\n",
       "    </tr>\n",
       "    <tr>\n",
       "      <th>std</th>\n",
       "      <td>15.606500</td>\n",
       "      <td>0.415186</td>\n",
       "      <td>2.942089e+05</td>\n",
       "      <td>77328.330383</td>\n",
       "      <td>1.851570e+05</td>\n",
       "      <td>11154.572723</td>\n",
       "      <td>33557.546518</td>\n",
       "      <td>32730.850059</td>\n",
       "      <td>3812.297437</td>\n",
       "      <td>830.596872</td>\n",
       "      <td>0.944805</td>\n",
       "      <td>0.477070</td>\n",
       "      <td>0.463253</td>\n",
       "      <td>0.473681</td>\n",
       "    </tr>\n",
       "    <tr>\n",
       "      <th>min</th>\n",
       "      <td>0.000000</td>\n",
       "      <td>0.740000</td>\n",
       "      <td>7.742000e+02</td>\n",
       "      <td>0.000000</td>\n",
       "      <td>3.053000e+01</td>\n",
       "      <td>0.000000</td>\n",
       "      <td>0.000000</td>\n",
       "      <td>0.000000</td>\n",
       "      <td>0.000000</td>\n",
       "      <td>0.000000</td>\n",
       "      <td>2015.000000</td>\n",
       "      <td>0.000000</td>\n",
       "      <td>0.000000</td>\n",
       "      <td>0.000000</td>\n",
       "    </tr>\n",
       "    <tr>\n",
       "      <th>25%</th>\n",
       "      <td>10.000000</td>\n",
       "      <td>1.200000</td>\n",
       "      <td>3.628005e+03</td>\n",
       "      <td>272.365000</td>\n",
       "      <td>1.459720e+03</td>\n",
       "      <td>0.000000</td>\n",
       "      <td>1575.205000</td>\n",
       "      <td>951.450000</td>\n",
       "      <td>0.000000</td>\n",
       "      <td>0.000000</td>\n",
       "      <td>2015.000000</td>\n",
       "      <td>0.000000</td>\n",
       "      <td>0.000000</td>\n",
       "      <td>0.000000</td>\n",
       "    </tr>\n",
       "    <tr>\n",
       "      <th>50%</th>\n",
       "      <td>24.000000</td>\n",
       "      <td>1.520000</td>\n",
       "      <td>5.597978e+04</td>\n",
       "      <td>2897.410000</td>\n",
       "      <td>2.168672e+04</td>\n",
       "      <td>33.880000</td>\n",
       "      <td>8625.920000</td>\n",
       "      <td>6178.940000</td>\n",
       "      <td>197.690000</td>\n",
       "      <td>0.000000</td>\n",
       "      <td>2016.000000</td>\n",
       "      <td>0.000000</td>\n",
       "      <td>0.000000</td>\n",
       "      <td>0.000000</td>\n",
       "    </tr>\n",
       "    <tr>\n",
       "      <th>75%</th>\n",
       "      <td>38.000000</td>\n",
       "      <td>1.830000</td>\n",
       "      <td>1.077141e+05</td>\n",
       "      <td>24696.035000</td>\n",
       "      <td>7.635084e+04</td>\n",
       "      <td>2190.650000</td>\n",
       "      <td>41762.070000</td>\n",
       "      <td>35469.495000</td>\n",
       "      <td>1012.120000</td>\n",
       "      <td>32.265000</td>\n",
       "      <td>2017.000000</td>\n",
       "      <td>1.000000</td>\n",
       "      <td>1.000000</td>\n",
       "      <td>1.000000</td>\n",
       "    </tr>\n",
       "    <tr>\n",
       "      <th>max</th>\n",
       "      <td>52.000000</td>\n",
       "      <td>2.590000</td>\n",
       "      <td>1.706251e+06</td>\n",
       "      <td>560686.250000</td>\n",
       "      <td>1.113988e+06</td>\n",
       "      <td>76966.690000</td>\n",
       "      <td>236417.930000</td>\n",
       "      <td>231913.110000</td>\n",
       "      <td>43887.360000</td>\n",
       "      <td>10906.940000</td>\n",
       "      <td>2018.000000</td>\n",
       "      <td>1.000000</td>\n",
       "      <td>1.000000</td>\n",
       "      <td>1.000000</td>\n",
       "    </tr>\n",
       "  </tbody>\n",
       "</table>\n",
       "</div>"
      ],
      "text/plain": [
       "       Unnamed: 0  AveragePrice  Total Volume           4046          4225          4770     Total Bags     Small Bags    Large Bags   XLarge Bags         year  Region.Albany  Region.SanFrancisco  Region.Spokane\n",
       "count  967.000000    967.000000  9.670000e+02     967.000000  9.670000e+02    967.000000     967.000000     967.000000    967.000000    967.000000   967.000000     967.000000           967.000000      967.000000\n",
       "mean    24.453981      1.545119  1.724653e+05   39985.871861  1.038115e+05   4120.477735   24547.428242   22790.804209   1485.438594    271.186474  2016.142709       0.349535             0.311272        0.339193\n",
       "std     15.606500      0.415186  2.942089e+05   77328.330383  1.851570e+05  11154.572723   33557.546518   32730.850059   3812.297437    830.596872     0.944805       0.477070             0.463253        0.473681\n",
       "min      0.000000      0.740000  7.742000e+02       0.000000  3.053000e+01      0.000000       0.000000       0.000000      0.000000      0.000000  2015.000000       0.000000             0.000000        0.000000\n",
       "25%     10.000000      1.200000  3.628005e+03     272.365000  1.459720e+03      0.000000    1575.205000     951.450000      0.000000      0.000000  2015.000000       0.000000             0.000000        0.000000\n",
       "50%     24.000000      1.520000  5.597978e+04    2897.410000  2.168672e+04     33.880000    8625.920000    6178.940000    197.690000      0.000000  2016.000000       0.000000             0.000000        0.000000\n",
       "75%     38.000000      1.830000  1.077141e+05   24696.035000  7.635084e+04   2190.650000   41762.070000   35469.495000   1012.120000     32.265000  2017.000000       1.000000             1.000000        1.000000\n",
       "max     52.000000      2.590000  1.706251e+06  560686.250000  1.113988e+06  76966.690000  236417.930000  231913.110000  43887.360000  10906.940000  2018.000000       1.000000             1.000000        1.000000"
      ]
     },
     "execution_count": 110,
     "metadata": {},
     "output_type": "execute_result"
    }
   ],
   "source": [
    "ef.describe()"
   ]
  },
  {
   "cell_type": "code",
   "execution_count": 112,
   "id": "8673f903-f29a-4de8-a865-5ffc794128c3",
   "metadata": {},
   "outputs": [
    {
     "data": {
      "text/html": [
       "<div>\n",
       "<style scoped>\n",
       "    .dataframe tbody tr th:only-of-type {\n",
       "        vertical-align: middle;\n",
       "    }\n",
       "\n",
       "    .dataframe tbody tr th {\n",
       "        vertical-align: top;\n",
       "    }\n",
       "\n",
       "    .dataframe thead th {\n",
       "        text-align: right;\n",
       "    }\n",
       "</style>\n",
       "<table border=\"1\" class=\"dataframe\">\n",
       "  <thead>\n",
       "    <tr style=\"text-align: right;\">\n",
       "      <th></th>\n",
       "      <th>Unnamed: 0</th>\n",
       "      <th>Date</th>\n",
       "      <th>AveragePrice</th>\n",
       "      <th>Total Volume</th>\n",
       "      <th>4046</th>\n",
       "      <th>4225</th>\n",
       "      <th>4770</th>\n",
       "      <th>Total Bags</th>\n",
       "      <th>Small Bags</th>\n",
       "      <th>Large Bags</th>\n",
       "      <th>XLarge Bags</th>\n",
       "      <th>type</th>\n",
       "      <th>year</th>\n",
       "      <th>region</th>\n",
       "      <th>Region.Albany</th>\n",
       "      <th>Region.SanFrancisco</th>\n",
       "      <th>Region.Spokane</th>\n",
       "    </tr>\n",
       "  </thead>\n",
       "  <tbody>\n",
       "    <tr>\n",
       "      <th>2184</th>\n",
       "      <td>0</td>\n",
       "      <td>2015-12-27</td>\n",
       "      <td>1.05</td>\n",
       "      <td>692206.40</td>\n",
       "      <td>181704.67</td>\n",
       "      <td>422617.80</td>\n",
       "      <td>28184.73</td>\n",
       "      <td>59699.20</td>\n",
       "      <td>59094.49</td>\n",
       "      <td>582.90</td>\n",
       "      <td>21.81</td>\n",
       "      <td>conventional</td>\n",
       "      <td>2015</td>\n",
       "      <td>SanFrancisco</td>\n",
       "      <td>0</td>\n",
       "      <td>1</td>\n",
       "      <td>0</td>\n",
       "    </tr>\n",
       "    <tr>\n",
       "      <th>2185</th>\n",
       "      <td>1</td>\n",
       "      <td>2015-12-20</td>\n",
       "      <td>1.15</td>\n",
       "      <td>637091.48</td>\n",
       "      <td>173521.67</td>\n",
       "      <td>364622.31</td>\n",
       "      <td>33083.99</td>\n",
       "      <td>65863.51</td>\n",
       "      <td>65038.10</td>\n",
       "      <td>766.09</td>\n",
       "      <td>59.32</td>\n",
       "      <td>conventional</td>\n",
       "      <td>2015</td>\n",
       "      <td>SanFrancisco</td>\n",
       "      <td>0</td>\n",
       "      <td>1</td>\n",
       "      <td>0</td>\n",
       "    </tr>\n",
       "    <tr>\n",
       "      <th>2186</th>\n",
       "      <td>2</td>\n",
       "      <td>2015-12-13</td>\n",
       "      <td>1.22</td>\n",
       "      <td>616016.46</td>\n",
       "      <td>127080.03</td>\n",
       "      <td>384958.63</td>\n",
       "      <td>34069.96</td>\n",
       "      <td>69907.84</td>\n",
       "      <td>69022.62</td>\n",
       "      <td>781.91</td>\n",
       "      <td>103.31</td>\n",
       "      <td>conventional</td>\n",
       "      <td>2015</td>\n",
       "      <td>SanFrancisco</td>\n",
       "      <td>0</td>\n",
       "      <td>1</td>\n",
       "      <td>0</td>\n",
       "    </tr>\n",
       "    <tr>\n",
       "      <th>2187</th>\n",
       "      <td>3</td>\n",
       "      <td>2015-12-06</td>\n",
       "      <td>1.06</td>\n",
       "      <td>694982.49</td>\n",
       "      <td>102771.75</td>\n",
       "      <td>498975.34</td>\n",
       "      <td>37321.12</td>\n",
       "      <td>55914.28</td>\n",
       "      <td>55171.77</td>\n",
       "      <td>638.89</td>\n",
       "      <td>103.62</td>\n",
       "      <td>conventional</td>\n",
       "      <td>2015</td>\n",
       "      <td>SanFrancisco</td>\n",
       "      <td>0</td>\n",
       "      <td>1</td>\n",
       "      <td>0</td>\n",
       "    </tr>\n",
       "    <tr>\n",
       "      <th>2188</th>\n",
       "      <td>4</td>\n",
       "      <td>2015-11-29</td>\n",
       "      <td>1.05</td>\n",
       "      <td>651638.60</td>\n",
       "      <td>102783.08</td>\n",
       "      <td>462966.47</td>\n",
       "      <td>31195.04</td>\n",
       "      <td>54694.01</td>\n",
       "      <td>53992.69</td>\n",
       "      <td>647.78</td>\n",
       "      <td>53.54</td>\n",
       "      <td>conventional</td>\n",
       "      <td>2015</td>\n",
       "      <td>SanFrancisco</td>\n",
       "      <td>0</td>\n",
       "      <td>1</td>\n",
       "      <td>0</td>\n",
       "    </tr>\n",
       "  </tbody>\n",
       "</table>\n",
       "</div>"
      ],
      "text/plain": [
       "      Unnamed: 0        Date  AveragePrice  Total Volume       4046       4225      4770  Total Bags  Small Bags  Large Bags  XLarge Bags          type  year        region  Region.Albany  Region.SanFrancisco  Region.Spokane\n",
       "2184           0  2015-12-27          1.05     692206.40  181704.67  422617.80  28184.73    59699.20    59094.49      582.90        21.81  conventional  2015  SanFrancisco              0                    1               0\n",
       "2185           1  2015-12-20          1.15     637091.48  173521.67  364622.31  33083.99    65863.51    65038.10      766.09        59.32  conventional  2015  SanFrancisco              0                    1               0\n",
       "2186           2  2015-12-13          1.22     616016.46  127080.03  384958.63  34069.96    69907.84    69022.62      781.91       103.31  conventional  2015  SanFrancisco              0                    1               0\n",
       "2187           3  2015-12-06          1.06     694982.49  102771.75  498975.34  37321.12    55914.28    55171.77      638.89       103.62  conventional  2015  SanFrancisco              0                    1               0\n",
       "2188           4  2015-11-29          1.05     651638.60  102783.08  462966.47  31195.04    54694.01    53992.69      647.78        53.54  conventional  2015  SanFrancisco              0                    1               0"
      ]
     },
     "execution_count": 112,
     "metadata": {},
     "output_type": "execute_result"
    }
   ],
   "source": [
    "aaa=ef[ef['Region.SanFrancisco']==1]\n",
    "aaa.head()"
   ]
  },
  {
   "cell_type": "code",
   "execution_count": 118,
   "id": "cb24232f-1a79-45b3-bee0-ffcb77159f90",
   "metadata": {},
   "outputs": [],
   "source": [
    "ef['Year'] = ef['Date'].apply(lambda x: int(x.split('-')[0]))"
   ]
  },
  {
   "cell_type": "code",
   "execution_count": 183,
   "id": "ffd59961-0864-4813-97d6-c3d5c0065481",
   "metadata": {},
   "outputs": [],
   "source": [
    "ef['Month'] = ef['Date'].apply(lambda x: int(x.split('-')[1]))"
   ]
  },
  {
   "cell_type": "code",
   "execution_count": 184,
   "id": "7f46c079-12ff-4bf4-aa39-65a5f89a3d9f",
   "metadata": {},
   "outputs": [
    {
     "data": {
      "text/plain": [
       "count    967.000000\n",
       "mean       6.096174\n",
       "std        3.549714\n",
       "min        1.000000\n",
       "25%        3.000000\n",
       "50%        6.000000\n",
       "75%        9.000000\n",
       "max       12.000000\n",
       "Name: Month, dtype: float64"
      ]
     },
     "execution_count": 184,
     "metadata": {},
     "output_type": "execute_result"
    }
   ],
   "source": [
    "ef['Month'].describe()"
   ]
  },
  {
   "cell_type": "code",
   "execution_count": 119,
   "id": "70574f88-7bd5-4f88-b520-2814c3814fb0",
   "metadata": {},
   "outputs": [
    {
     "data": {
      "text/plain": [
       "count     967.000000\n",
       "mean     2016.142709\n",
       "std         0.944805\n",
       "min      2015.000000\n",
       "25%      2015.000000\n",
       "50%      2016.000000\n",
       "75%      2017.000000\n",
       "max      2018.000000\n",
       "Name: Year, dtype: float64"
      ]
     },
     "execution_count": 119,
     "metadata": {},
     "output_type": "execute_result"
    }
   ],
   "source": [
    "ef['Year'].describe()"
   ]
  },
  {
   "cell_type": "code",
   "execution_count": 120,
   "id": "35f8146d-3727-4f8f-9354-f21cfb92fa1b",
   "metadata": {},
   "outputs": [
    {
     "data": {
      "text/plain": [
       "count    967.000000\n",
       "mean       1.545119\n",
       "std        0.415186\n",
       "min        0.740000\n",
       "25%        1.200000\n",
       "50%        1.520000\n",
       "75%        1.830000\n",
       "max        2.590000\n",
       "Name: AveragePrice, dtype: float64"
      ]
     },
     "execution_count": 120,
     "metadata": {},
     "output_type": "execute_result"
    }
   ],
   "source": [
    "ef['AveragePrice'].describe()"
   ]
  },
  {
   "cell_type": "code",
   "execution_count": null,
   "id": "e686ccfe-c4db-41fd-9380-fd1db6476961",
   "metadata": {},
   "outputs": [],
   "source": [
    "ef['Total Volume'].describe()"
   ]
  },
  {
   "cell_type": "code",
   "execution_count": 124,
   "id": "4062d914-28d9-4e9b-80fa-1c14186fa389",
   "metadata": {},
   "outputs": [],
   "source": [
    "ef['Type.organic'] = np.where(ef['type']=='organic', 1,0)\n",
    "ef['Type.conventional'] = np.where(ef['type']=='organic', 0,1)"
   ]
  },
  {
   "cell_type": "code",
   "execution_count": 126,
   "id": "8329a2bf-0d7a-4b38-b85a-3079fc875323",
   "metadata": {},
   "outputs": [
    {
     "data": {
      "text/plain": [
       "count    967.000000\n",
       "mean       0.524302\n",
       "std        0.499667\n",
       "min        0.000000\n",
       "25%        0.000000\n",
       "50%        1.000000\n",
       "75%        1.000000\n",
       "max        1.000000\n",
       "Name: Type.conventional, dtype: float64"
      ]
     },
     "execution_count": 126,
     "metadata": {},
     "output_type": "execute_result"
    }
   ],
   "source": [
    "ef['Type.conventional'].describe()"
   ]
  },
  {
   "cell_type": "code",
   "execution_count": 173,
   "id": "floppy-progress",
   "metadata": {},
   "outputs": [
    {
     "data": {
      "text/plain": [
       "AveragePrice           0\n",
       "Year                   0\n",
       "Type.organic           0\n",
       "Type.conventional      0\n",
       "Region.SanFrancisco    0\n",
       "Region.Albany          0\n",
       "Region.Spokane         0\n",
       "Total Volume           0\n",
       "dtype: int64"
      ]
     },
     "execution_count": 173,
     "metadata": {},
     "output_type": "execute_result"
    }
   ],
   "source": [
    "# confirm no missing data\n",
    "ef[['AveragePrice','Year','Type.organic','Type.conventional','Region.SanFrancisco','Region.Albany','Region.Spokane','Total Volume']].isnull().sum()"
   ]
  },
  {
   "cell_type": "code",
   "execution_count": 172,
   "id": "loving-median",
   "metadata": {},
   "outputs": [
    {
     "data": {
      "text/plain": [
       "AveragePrice           float64\n",
       "Year                     int64\n",
       "Type.organic             int64\n",
       "Type.conventional        int64\n",
       "Region.SanFrancisco      uint8\n",
       "Region.Albany            uint8\n",
       "Region.Spokane           uint8\n",
       "dtype: object"
      ]
     },
     "execution_count": 172,
     "metadata": {},
     "output_type": "execute_result"
    }
   ],
   "source": [
    "# confirm all numerical\n",
    "ef[['AveragePrice','Year','Type.organic','Type.conventional','Region.SanFrancisco','Region.Albany','Region.Spokane']].dtypes\n",
    "\n"
   ]
  },
  {
   "cell_type": "markdown",
   "id": "demonstrated-authentication",
   "metadata": {},
   "source": [
    "## Model Building"
   ]
  },
  {
   "cell_type": "code",
   "execution_count": 226,
   "id": "designing-inventory",
   "metadata": {},
   "outputs": [
    {
     "name": "stdout",
     "output_type": "stream",
     "text": [
      "(967,) (967, 7)\n"
     ]
    }
   ],
   "source": [
    "# declare features and target\n",
    "features = ['Year','Type.organic','Type.conventional','Region.SanFrancisco','Region.Albany','Region.Spokane','Total Volume']\n",
    "\n",
    "features = ['Year','Month','Type.organic','Type.conventional','Region.SanFrancisco','Region.Albany','Region.Spokane']\n",
    "\n",
    "\n",
    "y = ef['AveragePrice']\n",
    "X = ef[features]\n",
    "print(y.shape, X.shape)"
   ]
  },
  {
   "cell_type": "code",
   "execution_count": 227,
   "id": "resident-poetry",
   "metadata": {},
   "outputs": [],
   "source": [
    "# train-test split\n",
    "X_train, X_test, y_train, y_test = train_test_split(X, y, test_size = .25, random_state=12)"
   ]
  },
  {
   "cell_type": "code",
   "execution_count": 228,
   "id": "lesbian-shelf",
   "metadata": {},
   "outputs": [
    {
     "data": {
      "text/plain": [
       "LinearRegression()"
      ]
     },
     "execution_count": 228,
     "metadata": {},
     "output_type": "execute_result"
    }
   ],
   "source": [
    "# Fit the model to the training dataset\n",
    "mymodel = LinearRegression()\n",
    "mymodel.fit(X_train, y_train)"
   ]
  },
  {
   "cell_type": "code",
   "execution_count": 229,
   "id": "comparable-death",
   "metadata": {},
   "outputs": [
    {
     "data": {
      "text/plain": [
       "array([ 6.92734372e-02,  2.56522884e-02,  2.79995986e-01, -2.79995986e-01,\n",
       "        1.47019469e-01,  1.87042231e-04, -1.47206512e-01])"
      ]
     },
     "execution_count": 229,
     "metadata": {},
     "output_type": "execute_result"
    }
   ],
   "source": [
    "# coefficients and intercept\n",
    "mymodel.intercept_\n",
    "mymodel.coef_"
   ]
  },
  {
   "cell_type": "code",
   "execution_count": 249,
   "id": "labeled-retreat",
   "metadata": {},
   "outputs": [
    {
     "name": "stdout",
     "output_type": "stream",
     "text": [
      "Regression Equation:  y = -138.26 + 0.0693*Year + 0.0257*Month + 0.28*TypeOrganic + -0.28*TypeConventional+ 0.147*RegionSanFrancisco+ 0.0002*RegionAlbany +-0.1472*RegionSpokane\n"
     ]
    }
   ],
   "source": [
    "# what is the equation for this model?\n",
    "cols=list(X.columns)\n",
    "coefs=list(mymodel.coef_)\n",
    "xcoefs = [(coefs[i], cols[i]) for i in range(0, len(cols))]\n",
    "equation = f'y = {round(mymodel.intercept_,4)} + {round(xcoefs[0][0],4)}*{xcoefs[0][1]} + {round(xcoefs[1][0],4)}*{xcoefs[1][1]} + {round(xcoefs[2][0],4)}*{xcoefs[2][1]} + {round(xcoefs[3][0],4)}*{xcoefs[3][1]}+ {round(xcoefs[4][0],4)}*{xcoefs[4][1]}+ {round(xcoefs[5][0],4)}*{xcoefs[5][1]} +{round(xcoefs[6][0],4)}*{xcoefs[6][1]}'.replace('Type.o','TypeO').replace('Type.c','TypeC').replace('Region.','Region')\n",
    "print(\"Regression Equation: \", equation)  "
   ]
  },
  {
   "cell_type": "code",
   "execution_count": 238,
   "id": "published-excellence",
   "metadata": {},
   "outputs": [
    {
     "name": "stdout",
     "output_type": "stream",
     "text": [
      "[1.66, 1.23, 1.08, 1.33, 2.33]\n",
      "[1.880624621952478, 1.3571724962738188, 1.3539683668193447, 1.2245436734872044, 1.9248478955713324]\n"
     ]
    }
   ],
   "source": [
    "# Predict the y-values on the testing dataset & examine the first few\n",
    "y_preds = [x for x in mymodel.predict(X_test)]\n",
    "print(list(y_test[:5]))\n",
    "print(y_preds[:5])"
   ]
  },
  {
   "cell_type": "markdown",
   "id": "disturbed-approval",
   "metadata": {},
   "source": [
    "## Model Evaluation"
   ]
  },
  {
   "cell_type": "code",
   "execution_count": 239,
   "id": "circular-business",
   "metadata": {},
   "outputs": [
    {
     "data": {
      "image/png": "[encoded data removed]",
      "text/plain": [
       "<Figure size 432x432 with 1 Axes>"
      ]
     },
     "metadata": {
      "needs_background": "light"
     },
     "output_type": "display_data"
    }
   ],
   "source": [
    "# compare predictions to known values\n",
    "plt.figure(figsize=(6,6))\n",
    "ax = sns.regplot(x = y_preds, \n",
    "                 y = y_test, \n",
    "                 scatter_kws={\"color\": \"black\"}, \n",
    "                 line_kws={\"color\": \"red\"})\n",
    "ax.set(xlabel='predicted values', ylabel='true values');"
   ]
  },
  {
   "cell_type": "code",
   "execution_count": 240,
   "id": "adjustable-lingerie",
   "metadata": {},
   "outputs": [
    {
     "data": {
      "text/plain": [
       "0.56"
      ]
     },
     "execution_count": 240,
     "metadata": {},
     "output_type": "execute_result"
    }
   ],
   "source": [
    "# R-2 (coefficient of determination)\n",
    "r2 = metrics.r2_score(y_test, y_preds)\n",
    "round(r2, 2)"
   ]
  },
  {
   "cell_type": "code",
   "execution_count": 241,
   "id": "tracked-bankruptcy",
   "metadata": {},
   "outputs": [
    {
     "data": {
      "text/plain": [
       "0.2856840722253296"
      ]
     },
     "execution_count": 241,
     "metadata": {},
     "output_type": "execute_result"
    }
   ],
   "source": [
    "# root mean sq error\n",
    "rmse = sqrt(metrics.mean_squared_error(y_test, y_preds))\n",
    "rmse"
   ]
  },
  {
   "cell_type": "code",
   "execution_count": 242,
   "id": "billion-focus",
   "metadata": {},
   "outputs": [
    {
     "name": "stdout",
     "output_type": "stream",
     "text": [
      "0.43\n",
      "0.29\n",
      "improvement: -0.14\n"
     ]
    }
   ],
   "source": [
    "# is that more or less than if we just used the average as our model?\n",
    "avg_val = y_train.mean()\n",
    "comparison = np.full((len(y_test), ), avg_val)\n",
    "baseline=sqrt(metrics.mean_squared_error(y_test, comparison))\n",
    "print(round(baseline,2))\n",
    "print(round(rmse,2))\n",
    "print('improvement:',round(rmse-baseline,2))"
   ]
  },
  {
   "cell_type": "markdown",
   "id": "dried-history",
   "metadata": {},
   "source": [
    "## Make new predictions"
   ]
  },
  {
   "cell_type": "code",
   "execution_count": 250,
   "id": "regulated-revelation",
   "metadata": {},
   "outputs": [
    {
     "name": "stdout",
     "output_type": "stream",
     "text": [
      "y = -138.26 + 0.0693*Year + 0.0257*Month + 0.28*TypeOrganic + -0.28*TypeConventional+ 0.147*RegionSanFrancisco+ 0.0002*RegionAlbany +-0.1472*RegionSpokane\n"
     ]
    }
   ],
   "source": [
    "# remember the linear regression equation?\n",
    "print(equation)"
   ]
  },
  {
   "cell_type": "code",
   "execution_count": 285,
   "id": "hindu-valentine",
   "metadata": {},
   "outputs": [],
   "source": [
    "# make some fake data\n",
    "fake = [[[2015,1, 1, 0, 1, 0, 0]], # organic avocado in san francisco in 2015\n",
    " [[2015, 2,0, 1, 1, 0, 0]], # regular avocado in san francisco in 2015\n",
    " [[2017, 3, 1, 0, 1, 0,0]], # organic avocado in san francisco in march\n",
    " [[2017, 1, 1, 0, 1, 0,0]], # organic avocado in san francisco in jan\n",
    " [[2017, 12, 1, 0, 1, 0,0]], # organic avocado in san francisco in dec\n",
    " [[2017, 3, 0, 1, 1, 0,0]], # regular avocado in san francisco\n",
    " [[2017, 3, 1, 0, 0, 1,0]], # organic avocado in albany\n",
    " [[2017, 12, 1, 0, 0, 1,0]], # organic avocado in albany in dec\n",
    " [[2017, 3, 1, 0, 0, 0,1]]] # organic avocado in spokane\n"
   ]
  },
  {
   "cell_type": "code",
   "execution_count": 286,
   "id": "controversial-reproduction",
   "metadata": {},
   "outputs": [
    {
     "name": "stdout",
     "output_type": "stream",
     "text": [
      "$ 1.83\n",
      "$ 1.3\n",
      "$ 2.02\n",
      "$ 1.97\n",
      "$ 2.25\n",
      "$ 1.46\n",
      "$ 1.88\n",
      "$ 2.11\n",
      "$ 1.73\n"
     ]
    }
   ],
   "source": [
    "# make predictions just using our equation:\n",
    "for data in fake:\n",
    "    Year=data[0][0]\n",
    "    Month=data[0][1]\n",
    "    TypeOrganic=data[0][2]\n",
    "    TypeConventional=data[0][3]\n",
    "    RegionSanFrancisco=data[0][4]\n",
    "    RegionAlbany=data[0][5]\n",
    "    RegionSpokane=data[0][6]\n",
    "    y = -138.26 + 0.0693*Year + 0.0257*Month + 0.28*TypeOrganic + -0.28*TypeConventional+ 0.147*RegionSanFrancisco+ 0.0002*RegionAlbany +-0.1472*RegionSpokane\n",
    "    print('$',round(y,2))\n",
    "    "
   ]
  },
  {
   "cell_type": "code",
   "execution_count": 287,
   "id": "reverse-strength",
   "metadata": {},
   "outputs": [],
   "source": [
    "# pickle your model\n",
    "import pickle\n",
    "filename = open('avocado.pkl', 'wb')\n",
    "pickle.dump(mymodel, filename)\n",
    "filename.close()"
   ]
  },
  {
   "cell_type": "code",
   "execution_count": 288,
   "id": "ruled-admission",
   "metadata": {},
   "outputs": [],
   "source": [
    "## read in our pickle file\n",
    "filename = open('avocado.pkl', 'rb')\n",
    "unpickled_model = pickle.load(filename)\n",
    "filename.close()"
   ]
  },
  {
   "cell_type": "code",
   "execution_count": 289,
   "id": "announced-manner",
   "metadata": {},
   "outputs": [
    {
     "name": "stdout",
     "output_type": "stream",
     "text": [
      "$ [1.77861759]\n",
      "$ [1.24427791]\n",
      "$ [1.96846904]\n",
      "$ [1.91716447]\n",
      "$ [2.19933964]\n",
      "$ [1.40847707]\n",
      "$ [1.82163662]\n",
      "$ [2.05250721]\n",
      "$ [1.67424306]\n"
     ]
    },
    {
     "name": "stderr",
     "output_type": "stream",
     "text": [
      "/home/studio-lab-user/.conda/envs/default/lib/python3.9/site-packages/sklearn/base.py:450: UserWarning: X does not have valid feature names, but LinearRegression was fitted with feature names\n",
      "  warnings.warn(\n",
      "/home/studio-lab-user/.conda/envs/default/lib/python3.9/site-packages/sklearn/base.py:450: UserWarning: X does not have valid feature names, but LinearRegression was fitted with feature names\n",
      "  warnings.warn(\n",
      "/home/studio-lab-user/.conda/envs/default/lib/python3.9/site-packages/sklearn/base.py:450: UserWarning: X does not have valid feature names, but LinearRegression was fitted with feature names\n",
      "  warnings.warn(\n",
      "/home/studio-lab-user/.conda/envs/default/lib/python3.9/site-packages/sklearn/base.py:450: UserWarning: X does not have valid feature names, but LinearRegression was fitted with feature names\n",
      "  warnings.warn(\n",
      "/home/studio-lab-user/.conda/envs/default/lib/python3.9/site-packages/sklearn/base.py:450: UserWarning: X does not have valid feature names, but LinearRegression was fitted with feature names\n",
      "  warnings.warn(\n",
      "/home/studio-lab-user/.conda/envs/default/lib/python3.9/site-packages/sklearn/base.py:450: UserWarning: X does not have valid feature names, but LinearRegression was fitted with feature names\n",
      "  warnings.warn(\n",
      "/home/studio-lab-user/.conda/envs/default/lib/python3.9/site-packages/sklearn/base.py:450: UserWarning: X does not have valid feature names, but LinearRegression was fitted with feature names\n",
      "  warnings.warn(\n",
      "/home/studio-lab-user/.conda/envs/default/lib/python3.9/site-packages/sklearn/base.py:450: UserWarning: X does not have valid feature names, but LinearRegression was fitted with feature names\n",
      "  warnings.warn(\n",
      "/home/studio-lab-user/.conda/envs/default/lib/python3.9/site-packages/sklearn/base.py:450: UserWarning: X does not have valid feature names, but LinearRegression was fitted with feature names\n",
      "  warnings.warn(\n"
     ]
    }
   ],
   "source": [
    "# make predictions\n",
    "for data in fake:\n",
    "    print('$',unpickled_model.predict(data))"
   ]
  },
  {
   "cell_type": "markdown",
   "id": "thorough-services",
   "metadata": {},
   "source": [
    "## Turn that into a function"
   ]
  },
  {
   "cell_type": "code",
   "execution_count": 37,
   "id": "overall-incentive",
   "metadata": {},
   "outputs": [],
   "source": [
    "def ames_lr_function(Year,Month,TypeOrganic,RegionSanFrancisco,RegionAlbany,RegionSpokane):\n",
    "    checksum=0\n",
    "    for var in [Year,Month,TypeOrganic,RegionSanFrancisco,RegionAlbany,RegionSpokane]:\n",
    "        if isinstance(var,int)==False:\n",
    "            checksum+=1\n",
    "    if (Year<2015)|(YearBuilt>2018):\n",
    "        checksum+=1\n",
    "    if (Month<1) | (Month>12):\n",
    "        checksum+=1\n",
    "    if (BedroomAbvGr<1) | (BedroomAbvGr>5):\n",
    "        checksum+=1\n",
    "    if (TotalSF<100)|(TotalSF>5000):\n",
    "        checksum+=1\n",
    "    if (SingleFam!=0) & (SingleFam!=1):\n",
    "        checksum+=1\n",
    "    if (GarageArea<0) | (GarageArea>1481):\n",
    "        checksum+=1\n",
    "    if checksum>0:\n",
    "        return \"Please provide adequate inputs\"\n",
    "    else:\n",
    "        y = [-138.26 + 0.0693*Year + 0.0257*Month + 0.28*TypeOrganic + -0.28*TypeConventional+ 0.147*RegionSanFrancisco+ 0.0002*RegionAlbany +-0.1472*RegionSpokane]\n",
    "#         y = unpickled_model.predict([[YearBuilt,Bathrooms,BedroomAbvGr,TotalSF,SingleFam,LargeNeighborhood]])\n",
    "        formatted_y = \"${:,.2f}\".format(y[0])\n",
    "        return formatted_y "
   ]
  },
  {
   "cell_type": "code",
   "execution_count": 38,
   "id": "annoying-white",
   "metadata": {},
   "outputs": [
    {
     "data": {
      "text/plain": [
       "'$194,798.39'"
      ]
     },
     "execution_count": 38,
     "metadata": {},
     "output_type": "execute_result"
    }
   ],
   "source": [
    "# test the function\n",
    "YearBuilt=2010\n",
    "Bathrooms=3\n",
    "BedroomAbvGr=3\n",
    "TotalSF=2000\n",
    "SingleFam=0\n",
    "GarageArea=1000\n",
    "ames_lr_function(YearBuilt,Bathrooms,BedroomAbvGr,TotalSF,SingleFam,GarageArea)"
   ]
  },
  {
   "cell_type": "code",
   "execution_count": null,
   "id": "9803efc6-ecd4-4e24-bac9-9d58fc4527fb",
   "metadata": {},
   "outputs": [],
   "source": []
  }
 ],
 "metadata": {
  "kernelspec": {
   "display_name": "default:Python",
   "language": "python",
   "name": "conda-env-default-py"
  },
  "language_info": {
   "codemirror_mode": {
    "name": "ipython",
    "version": 3
   },
   "file_extension": ".py",
   "mimetype": "text/x-python",
   "name": "python",
   "nbconvert_exporter": "python",
   "pygments_lexer": "ipython3",
   "version": "3.9.12"
  }
 },
 "nbformat": 4,
 "nbformat_minor": 5
}
