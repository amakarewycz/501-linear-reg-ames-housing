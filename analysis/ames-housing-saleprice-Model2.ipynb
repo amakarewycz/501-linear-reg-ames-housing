{
 "cells": [
  {
   "cell_type": "markdown",
   "id": "conceptual-wellington",
   "metadata": {},
   "source": [
    "## Mortgage Loans: Linear Regression Example"
   ]
  },
  {
   "cell_type": "code",
   "execution_count": 1,
   "id": "flush-thomson",
   "metadata": {},
   "outputs": [],
   "source": [
    "import pandas as pd\n",
    "from sklearn.linear_model import LinearRegression\n",
    "from sklearn.model_selection import train_test_split\n",
    "from sklearn import metrics\n",
    "import matplotlib.pyplot as plt\n",
    "import seaborn as sns\n",
    "import numpy as np\n",
    "from math import sqrt\n",
    "pd.set_option('display.max_rows', 500)\n",
    "pd.set_option('display.max_columns', 500)\n",
    "pd.set_option('display.width', 1000)"
   ]
  },
  {
   "cell_type": "code",
   "execution_count": 2,
   "id": "ceramic-valve",
   "metadata": {},
   "outputs": [
    {
     "data": {
      "text/plain": [
       "(1460, 81)"
      ]
     },
     "execution_count": 2,
     "metadata": {},
     "output_type": "execute_result"
    }
   ],
   "source": [
    "df = pd.read_csv('../data/ames_housing.csv')\n",
    "df.shape"
   ]
  },
  {
   "cell_type": "code",
   "execution_count": 3,
   "id": "young-weight",
   "metadata": {},
   "outputs": [
    {
     "data": {
      "text/html": [
       "<div>\n",
       "<style scoped>\n",
       "    .dataframe tbody tr th:only-of-type {\n",
       "        vertical-align: middle;\n",
       "    }\n",
       "\n",
       "    .dataframe tbody tr th {\n",
       "        vertical-align: top;\n",
       "    }\n",
       "\n",
       "    .dataframe thead th {\n",
       "        text-align: right;\n",
       "    }\n",
       "</style>\n",
       "<table border=\"1\" class=\"dataframe\">\n",
       "  <thead>\n",
       "    <tr style=\"text-align: right;\">\n",
       "      <th></th>\n",
       "      <th>0</th>\n",
       "      <th>1</th>\n",
       "    </tr>\n",
       "  </thead>\n",
       "  <tbody>\n",
       "    <tr>\n",
       "      <th>Id</th>\n",
       "      <td>1</td>\n",
       "      <td>2</td>\n",
       "    </tr>\n",
       "    <tr>\n",
       "      <th>MSSubClass</th>\n",
       "      <td>60</td>\n",
       "      <td>20</td>\n",
       "    </tr>\n",
       "    <tr>\n",
       "      <th>MSZoning</th>\n",
       "      <td>RL</td>\n",
       "      <td>RL</td>\n",
       "    </tr>\n",
       "    <tr>\n",
       "      <th>LotFrontage</th>\n",
       "      <td>65.0</td>\n",
       "      <td>80.0</td>\n",
       "    </tr>\n",
       "    <tr>\n",
       "      <th>LotArea</th>\n",
       "      <td>8450</td>\n",
       "      <td>9600</td>\n",
       "    </tr>\n",
       "    <tr>\n",
       "      <th>Street</th>\n",
       "      <td>Pave</td>\n",
       "      <td>Pave</td>\n",
       "    </tr>\n",
       "    <tr>\n",
       "      <th>Alley</th>\n",
       "      <td>NaN</td>\n",
       "      <td>NaN</td>\n",
       "    </tr>\n",
       "    <tr>\n",
       "      <th>LotShape</th>\n",
       "      <td>Reg</td>\n",
       "      <td>Reg</td>\n",
       "    </tr>\n",
       "    <tr>\n",
       "      <th>LandContour</th>\n",
       "      <td>Lvl</td>\n",
       "      <td>Lvl</td>\n",
       "    </tr>\n",
       "    <tr>\n",
       "      <th>Utilities</th>\n",
       "      <td>AllPub</td>\n",
       "      <td>AllPub</td>\n",
       "    </tr>\n",
       "    <tr>\n",
       "      <th>LotConfig</th>\n",
       "      <td>Inside</td>\n",
       "      <td>FR2</td>\n",
       "    </tr>\n",
       "    <tr>\n",
       "      <th>LandSlope</th>\n",
       "      <td>Gtl</td>\n",
       "      <td>Gtl</td>\n",
       "    </tr>\n",
       "    <tr>\n",
       "      <th>Neighborhood</th>\n",
       "      <td>CollgCr</td>\n",
       "      <td>Veenker</td>\n",
       "    </tr>\n",
       "    <tr>\n",
       "      <th>Condition1</th>\n",
       "      <td>Norm</td>\n",
       "      <td>Feedr</td>\n",
       "    </tr>\n",
       "    <tr>\n",
       "      <th>Condition2</th>\n",
       "      <td>Norm</td>\n",
       "      <td>Norm</td>\n",
       "    </tr>\n",
       "    <tr>\n",
       "      <th>BldgType</th>\n",
       "      <td>1Fam</td>\n",
       "      <td>1Fam</td>\n",
       "    </tr>\n",
       "    <tr>\n",
       "      <th>HouseStyle</th>\n",
       "      <td>2Story</td>\n",
       "      <td>1Story</td>\n",
       "    </tr>\n",
       "    <tr>\n",
       "      <th>OverallQual</th>\n",
       "      <td>7</td>\n",
       "      <td>6</td>\n",
       "    </tr>\n",
       "    <tr>\n",
       "      <th>OverallCond</th>\n",
       "      <td>5</td>\n",
       "      <td>8</td>\n",
       "    </tr>\n",
       "    <tr>\n",
       "      <th>YearBuilt</th>\n",
       "      <td>2003</td>\n",
       "      <td>1976</td>\n",
       "    </tr>\n",
       "    <tr>\n",
       "      <th>YearRemodAdd</th>\n",
       "      <td>2003</td>\n",
       "      <td>1976</td>\n",
       "    </tr>\n",
       "    <tr>\n",
       "      <th>RoofStyle</th>\n",
       "      <td>Gable</td>\n",
       "      <td>Gable</td>\n",
       "    </tr>\n",
       "    <tr>\n",
       "      <th>RoofMatl</th>\n",
       "      <td>CompShg</td>\n",
       "      <td>CompShg</td>\n",
       "    </tr>\n",
       "    <tr>\n",
       "      <th>Exterior1st</th>\n",
       "      <td>VinylSd</td>\n",
       "      <td>MetalSd</td>\n",
       "    </tr>\n",
       "    <tr>\n",
       "      <th>Exterior2nd</th>\n",
       "      <td>VinylSd</td>\n",
       "      <td>MetalSd</td>\n",
       "    </tr>\n",
       "    <tr>\n",
       "      <th>MasVnrType</th>\n",
       "      <td>BrkFace</td>\n",
       "      <td>None</td>\n",
       "    </tr>\n",
       "    <tr>\n",
       "      <th>MasVnrArea</th>\n",
       "      <td>196.0</td>\n",
       "      <td>0.0</td>\n",
       "    </tr>\n",
       "    <tr>\n",
       "      <th>ExterQual</th>\n",
       "      <td>Gd</td>\n",
       "      <td>TA</td>\n",
       "    </tr>\n",
       "    <tr>\n",
       "      <th>ExterCond</th>\n",
       "      <td>TA</td>\n",
       "      <td>TA</td>\n",
       "    </tr>\n",
       "    <tr>\n",
       "      <th>Foundation</th>\n",
       "      <td>PConc</td>\n",
       "      <td>CBlock</td>\n",
       "    </tr>\n",
       "    <tr>\n",
       "      <th>BsmtQual</th>\n",
       "      <td>Gd</td>\n",
       "      <td>Gd</td>\n",
       "    </tr>\n",
       "    <tr>\n",
       "      <th>BsmtCond</th>\n",
       "      <td>TA</td>\n",
       "      <td>TA</td>\n",
       "    </tr>\n",
       "    <tr>\n",
       "      <th>BsmtExposure</th>\n",
       "      <td>No</td>\n",
       "      <td>Gd</td>\n",
       "    </tr>\n",
       "    <tr>\n",
       "      <th>BsmtFinType1</th>\n",
       "      <td>GLQ</td>\n",
       "      <td>ALQ</td>\n",
       "    </tr>\n",
       "    <tr>\n",
       "      <th>BsmtFinSF1</th>\n",
       "      <td>706</td>\n",
       "      <td>978</td>\n",
       "    </tr>\n",
       "    <tr>\n",
       "      <th>BsmtFinType2</th>\n",
       "      <td>Unf</td>\n",
       "      <td>Unf</td>\n",
       "    </tr>\n",
       "    <tr>\n",
       "      <th>BsmtFinSF2</th>\n",
       "      <td>0</td>\n",
       "      <td>0</td>\n",
       "    </tr>\n",
       "    <tr>\n",
       "      <th>BsmtUnfSF</th>\n",
       "      <td>150</td>\n",
       "      <td>284</td>\n",
       "    </tr>\n",
       "    <tr>\n",
       "      <th>TotalBsmtSF</th>\n",
       "      <td>856</td>\n",
       "      <td>1262</td>\n",
       "    </tr>\n",
       "    <tr>\n",
       "      <th>Heating</th>\n",
       "      <td>GasA</td>\n",
       "      <td>GasA</td>\n",
       "    </tr>\n",
       "    <tr>\n",
       "      <th>HeatingQC</th>\n",
       "      <td>Ex</td>\n",
       "      <td>Ex</td>\n",
       "    </tr>\n",
       "    <tr>\n",
       "      <th>CentralAir</th>\n",
       "      <td>Y</td>\n",
       "      <td>Y</td>\n",
       "    </tr>\n",
       "    <tr>\n",
       "      <th>Electrical</th>\n",
       "      <td>SBrkr</td>\n",
       "      <td>SBrkr</td>\n",
       "    </tr>\n",
       "    <tr>\n",
       "      <th>1stFlrSF</th>\n",
       "      <td>856</td>\n",
       "      <td>1262</td>\n",
       "    </tr>\n",
       "    <tr>\n",
       "      <th>2ndFlrSF</th>\n",
       "      <td>854</td>\n",
       "      <td>0</td>\n",
       "    </tr>\n",
       "    <tr>\n",
       "      <th>LowQualFinSF</th>\n",
       "      <td>0</td>\n",
       "      <td>0</td>\n",
       "    </tr>\n",
       "    <tr>\n",
       "      <th>GrLivArea</th>\n",
       "      <td>1710</td>\n",
       "      <td>1262</td>\n",
       "    </tr>\n",
       "    <tr>\n",
       "      <th>BsmtFullBath</th>\n",
       "      <td>1</td>\n",
       "      <td>0</td>\n",
       "    </tr>\n",
       "    <tr>\n",
       "      <th>BsmtHalfBath</th>\n",
       "      <td>0</td>\n",
       "      <td>1</td>\n",
       "    </tr>\n",
       "    <tr>\n",
       "      <th>FullBath</th>\n",
       "      <td>2</td>\n",
       "      <td>2</td>\n",
       "    </tr>\n",
       "    <tr>\n",
       "      <th>HalfBath</th>\n",
       "      <td>1</td>\n",
       "      <td>0</td>\n",
       "    </tr>\n",
       "    <tr>\n",
       "      <th>BedroomAbvGr</th>\n",
       "      <td>3</td>\n",
       "      <td>3</td>\n",
       "    </tr>\n",
       "    <tr>\n",
       "      <th>KitchenAbvGr</th>\n",
       "      <td>1</td>\n",
       "      <td>1</td>\n",
       "    </tr>\n",
       "    <tr>\n",
       "      <th>KitchenQual</th>\n",
       "      <td>Gd</td>\n",
       "      <td>TA</td>\n",
       "    </tr>\n",
       "    <tr>\n",
       "      <th>TotRmsAbvGrd</th>\n",
       "      <td>8</td>\n",
       "      <td>6</td>\n",
       "    </tr>\n",
       "    <tr>\n",
       "      <th>Functional</th>\n",
       "      <td>Typ</td>\n",
       "      <td>Typ</td>\n",
       "    </tr>\n",
       "    <tr>\n",
       "      <th>Fireplaces</th>\n",
       "      <td>0</td>\n",
       "      <td>1</td>\n",
       "    </tr>\n",
       "    <tr>\n",
       "      <th>FireplaceQu</th>\n",
       "      <td>NaN</td>\n",
       "      <td>TA</td>\n",
       "    </tr>\n",
       "    <tr>\n",
       "      <th>GarageType</th>\n",
       "      <td>Attchd</td>\n",
       "      <td>Attchd</td>\n",
       "    </tr>\n",
       "    <tr>\n",
       "      <th>GarageYrBlt</th>\n",
       "      <td>2003.0</td>\n",
       "      <td>1976.0</td>\n",
       "    </tr>\n",
       "    <tr>\n",
       "      <th>GarageFinish</th>\n",
       "      <td>RFn</td>\n",
       "      <td>RFn</td>\n",
       "    </tr>\n",
       "    <tr>\n",
       "      <th>GarageCars</th>\n",
       "      <td>2</td>\n",
       "      <td>2</td>\n",
       "    </tr>\n",
       "    <tr>\n",
       "      <th>GarageArea</th>\n",
       "      <td>548</td>\n",
       "      <td>460</td>\n",
       "    </tr>\n",
       "    <tr>\n",
       "      <th>GarageQual</th>\n",
       "      <td>TA</td>\n",
       "      <td>TA</td>\n",
       "    </tr>\n",
       "    <tr>\n",
       "      <th>GarageCond</th>\n",
       "      <td>TA</td>\n",
       "      <td>TA</td>\n",
       "    </tr>\n",
       "    <tr>\n",
       "      <th>PavedDrive</th>\n",
       "      <td>Y</td>\n",
       "      <td>Y</td>\n",
       "    </tr>\n",
       "    <tr>\n",
       "      <th>WoodDeckSF</th>\n",
       "      <td>0</td>\n",
       "      <td>298</td>\n",
       "    </tr>\n",
       "    <tr>\n",
       "      <th>OpenPorchSF</th>\n",
       "      <td>61</td>\n",
       "      <td>0</td>\n",
       "    </tr>\n",
       "    <tr>\n",
       "      <th>EnclosedPorch</th>\n",
       "      <td>0</td>\n",
       "      <td>0</td>\n",
       "    </tr>\n",
       "    <tr>\n",
       "      <th>3SsnPorch</th>\n",
       "      <td>0</td>\n",
       "      <td>0</td>\n",
       "    </tr>\n",
       "    <tr>\n",
       "      <th>ScreenPorch</th>\n",
       "      <td>0</td>\n",
       "      <td>0</td>\n",
       "    </tr>\n",
       "    <tr>\n",
       "      <th>PoolArea</th>\n",
       "      <td>0</td>\n",
       "      <td>0</td>\n",
       "    </tr>\n",
       "    <tr>\n",
       "      <th>PoolQC</th>\n",
       "      <td>NaN</td>\n",
       "      <td>NaN</td>\n",
       "    </tr>\n",
       "    <tr>\n",
       "      <th>Fence</th>\n",
       "      <td>NaN</td>\n",
       "      <td>NaN</td>\n",
       "    </tr>\n",
       "    <tr>\n",
       "      <th>MiscFeature</th>\n",
       "      <td>NaN</td>\n",
       "      <td>NaN</td>\n",
       "    </tr>\n",
       "    <tr>\n",
       "      <th>MiscVal</th>\n",
       "      <td>0</td>\n",
       "      <td>0</td>\n",
       "    </tr>\n",
       "    <tr>\n",
       "      <th>MoSold</th>\n",
       "      <td>2</td>\n",
       "      <td>5</td>\n",
       "    </tr>\n",
       "    <tr>\n",
       "      <th>YrSold</th>\n",
       "      <td>2008</td>\n",
       "      <td>2007</td>\n",
       "    </tr>\n",
       "    <tr>\n",
       "      <th>SaleType</th>\n",
       "      <td>WD</td>\n",
       "      <td>WD</td>\n",
       "    </tr>\n",
       "    <tr>\n",
       "      <th>SaleCondition</th>\n",
       "      <td>Normal</td>\n",
       "      <td>Normal</td>\n",
       "    </tr>\n",
       "    <tr>\n",
       "      <th>SalePrice</th>\n",
       "      <td>208500</td>\n",
       "      <td>181500</td>\n",
       "    </tr>\n",
       "  </tbody>\n",
       "</table>\n",
       "</div>"
      ],
      "text/plain": [
       "                     0        1\n",
       "Id                   1        2\n",
       "MSSubClass          60       20\n",
       "MSZoning            RL       RL\n",
       "LotFrontage       65.0     80.0\n",
       "LotArea           8450     9600\n",
       "Street            Pave     Pave\n",
       "Alley              NaN      NaN\n",
       "LotShape           Reg      Reg\n",
       "LandContour        Lvl      Lvl\n",
       "Utilities       AllPub   AllPub\n",
       "LotConfig       Inside      FR2\n",
       "LandSlope          Gtl      Gtl\n",
       "Neighborhood   CollgCr  Veenker\n",
       "Condition1        Norm    Feedr\n",
       "Condition2        Norm     Norm\n",
       "BldgType          1Fam     1Fam\n",
       "HouseStyle      2Story   1Story\n",
       "OverallQual          7        6\n",
       "OverallCond          5        8\n",
       "YearBuilt         2003     1976\n",
       "YearRemodAdd      2003     1976\n",
       "RoofStyle        Gable    Gable\n",
       "RoofMatl       CompShg  CompShg\n",
       "Exterior1st    VinylSd  MetalSd\n",
       "Exterior2nd    VinylSd  MetalSd\n",
       "MasVnrType     BrkFace     None\n",
       "MasVnrArea       196.0      0.0\n",
       "ExterQual           Gd       TA\n",
       "ExterCond           TA       TA\n",
       "Foundation       PConc   CBlock\n",
       "BsmtQual            Gd       Gd\n",
       "BsmtCond            TA       TA\n",
       "BsmtExposure        No       Gd\n",
       "BsmtFinType1       GLQ      ALQ\n",
       "BsmtFinSF1         706      978\n",
       "BsmtFinType2       Unf      Unf\n",
       "BsmtFinSF2           0        0\n",
       "BsmtUnfSF          150      284\n",
       "TotalBsmtSF        856     1262\n",
       "Heating           GasA     GasA\n",
       "HeatingQC           Ex       Ex\n",
       "CentralAir           Y        Y\n",
       "Electrical       SBrkr    SBrkr\n",
       "1stFlrSF           856     1262\n",
       "2ndFlrSF           854        0\n",
       "LowQualFinSF         0        0\n",
       "GrLivArea         1710     1262\n",
       "BsmtFullBath         1        0\n",
       "BsmtHalfBath         0        1\n",
       "FullBath             2        2\n",
       "HalfBath             1        0\n",
       "BedroomAbvGr         3        3\n",
       "KitchenAbvGr         1        1\n",
       "KitchenQual         Gd       TA\n",
       "TotRmsAbvGrd         8        6\n",
       "Functional         Typ      Typ\n",
       "Fireplaces           0        1\n",
       "FireplaceQu        NaN       TA\n",
       "GarageType      Attchd   Attchd\n",
       "GarageYrBlt     2003.0   1976.0\n",
       "GarageFinish       RFn      RFn\n",
       "GarageCars           2        2\n",
       "GarageArea         548      460\n",
       "GarageQual          TA       TA\n",
       "GarageCond          TA       TA\n",
       "PavedDrive           Y        Y\n",
       "WoodDeckSF           0      298\n",
       "OpenPorchSF         61        0\n",
       "EnclosedPorch        0        0\n",
       "3SsnPorch            0        0\n",
       "ScreenPorch          0        0\n",
       "PoolArea             0        0\n",
       "PoolQC             NaN      NaN\n",
       "Fence              NaN      NaN\n",
       "MiscFeature        NaN      NaN\n",
       "MiscVal              0        0\n",
       "MoSold               2        5\n",
       "YrSold            2008     2007\n",
       "SaleType            WD       WD\n",
       "SaleCondition   Normal   Normal\n",
       "SalePrice       208500   181500"
      ]
     },
     "execution_count": 3,
     "metadata": {},
     "output_type": "execute_result"
    }
   ],
   "source": [
    "df.head(2).T"
   ]
  },
  {
   "cell_type": "markdown",
   "id": "expected-finish",
   "metadata": {},
   "source": [
    "## Exploratory data analysis"
   ]
  },
  {
   "cell_type": "code",
   "execution_count": 4,
   "id": "thousand-difference",
   "metadata": {},
   "outputs": [
    {
     "name": "stdout",
     "output_type": "stream",
     "text": [
      "count      1460.000000\n",
      "mean     180921.195890\n",
      "std       79442.502883\n",
      "min       34900.000000\n",
      "25%      129975.000000\n",
      "50%      163000.000000\n",
      "75%      214000.000000\n",
      "max      755000.000000\n",
      "Name: SalePrice, dtype: float64\n"
     ]
    }
   ],
   "source": [
    "# target\n",
    "print(df['SalePrice'].describe())"
   ]
  },
  {
   "cell_type": "code",
   "execution_count": 5,
   "id": "7b68a6fe-2d33-4c29-aa53-2356dd9cfd28",
   "metadata": {},
   "outputs": [
    {
     "name": "stdout",
     "output_type": "stream",
     "text": [
      "count    1460.000000\n",
      "mean      472.980137\n",
      "std       213.804841\n",
      "min         0.000000\n",
      "25%       334.500000\n",
      "50%       480.000000\n",
      "75%       576.000000\n",
      "max      1418.000000\n",
      "Name: GarageArea, dtype: float64\n"
     ]
    }
   ],
   "source": [
    "print(df['GarageArea'].describe())"
   ]
  },
  {
   "cell_type": "code",
   "execution_count": 6,
   "id": "falling-graph",
   "metadata": {},
   "outputs": [
    {
     "name": "stdout",
     "output_type": "stream",
     "text": [
      "1460\n",
      "419248.70453907084\n",
      "1438\n"
     ]
    }
   ],
   "source": [
    "# remove extreme outliers\n",
    "print(df.shape[0])\n",
    "cutpoint = df['SalePrice'].mean()+3* df['SalePrice'].std()\n",
    "print(cutpoint)\n",
    "df=df[df['SalePrice']<=cutpoint].copy()\n",
    "print(df.shape[0])"
   ]
  },
  {
   "cell_type": "code",
   "execution_count": 7,
   "id": "finnish-foster",
   "metadata": {},
   "outputs": [
    {
     "name": "stdout",
     "output_type": "stream",
     "text": [
      "NAmes      225\n",
      "CollgCr    149\n",
      "OldTown    112\n",
      "Edwards    100\n",
      "Somerst     85\n",
      "Name: Neighborhood, dtype: int64\n"
     ]
    },
    {
     "data": {
      "text/plain": [
       "Other      867\n",
       "NAmes      225\n",
       "CollgCr    149\n",
       "OldTown    112\n",
       "Somerst     85\n",
       "Name: Location, dtype: int64"
      ]
     },
     "execution_count": 7,
     "metadata": {},
     "output_type": "execute_result"
    }
   ],
   "source": [
    "# recoding neighborhood\n",
    "print(df['Neighborhood'].value_counts().head())\n",
    "df['Location']='Other'\n",
    "df.loc[df['Neighborhood']=='NAmes', 'Location']='NAmes'\n",
    "df.loc[df['Neighborhood']=='CollgCr', 'Location']='CollgCr'\n",
    "df.loc[df['Neighborhood']=='OldTown', 'Location']='OldTown'\n",
    "df.loc[df['Neighborhood']=='Somerst', 'Location']='Somerst'\n",
    "df['Location'].value_counts()"
   ]
  },
  {
   "cell_type": "code",
   "execution_count": 8,
   "id": "convenient-corner",
   "metadata": {},
   "outputs": [],
   "source": [
    "# make neighborhood binary for simplicity\n",
    "df['LargeNeighborhood']=np.where(df['Location']=='Other', 0,1)"
   ]
  },
  {
   "cell_type": "code",
   "execution_count": 9,
   "id": "through-airplane",
   "metadata": {},
   "outputs": [
    {
     "name": "stdout",
     "output_type": "stream",
     "text": [
      "1Fam      1198\n",
      "TwnhsE     114\n",
      "Duplex      52\n",
      "Twnhs       43\n",
      "2fmCon      31\n",
      "Name: BldgType, dtype: int64\n",
      "1    1198\n",
      "0     240\n",
      "Name: SingleFam, dtype: int64\n"
     ]
    }
   ],
   "source": [
    "# recoding building type\n",
    "print(df['BldgType'].value_counts())\n",
    "df['SingleFam']=np.where(df['BldgType']=='1Fam',1,0)\n",
    "print(df['SingleFam'].value_counts())"
   ]
  },
  {
   "cell_type": "code",
   "execution_count": 10,
   "id": "expired-kazakhstan",
   "metadata": {},
   "outputs": [
    {
     "data": {
      "text/plain": [
       "count     1438.000000\n",
       "mean      2532.068150\n",
       "std        769.994523\n",
       "min        334.000000\n",
       "25%       2004.250000\n",
       "50%       2460.000000\n",
       "75%       2982.500000\n",
       "max      11752.000000\n",
       "Name: TotalSF, dtype: float64"
      ]
     },
     "execution_count": 10,
     "metadata": {},
     "output_type": "execute_result"
    }
   ],
   "source": [
    "# recoding total square feet\n",
    "df['TotalSF'] = df['TotalBsmtSF']+df['1stFlrSF']+df['2ndFlrSF']\n",
    "df['TotalSF'].describe()"
   ]
  },
  {
   "cell_type": "code",
   "execution_count": 11,
   "id": "employed-teacher",
   "metadata": {},
   "outputs": [
    {
     "data": {
      "text/plain": [
       "count    1438.000000\n",
       "mean        2.863004\n",
       "std         0.811372\n",
       "min         0.000000\n",
       "25%         2.000000\n",
       "50%         3.000000\n",
       "75%         3.000000\n",
       "max         8.000000\n",
       "Name: BedroomAbvGr, dtype: float64"
      ]
     },
     "execution_count": 11,
     "metadata": {},
     "output_type": "execute_result"
    }
   ],
   "source": [
    "# bedrooms\n",
    "df['BedroomAbvGr'].describe()"
   ]
  },
  {
   "cell_type": "code",
   "execution_count": 12,
   "id": "acute-extra",
   "metadata": {},
   "outputs": [
    {
     "data": {
      "text/plain": [
       "count    1438.000000\n",
       "mean        1.929068\n",
       "std         0.781112\n",
       "min         0.000000\n",
       "25%         1.000000\n",
       "50%         2.000000\n",
       "75%         2.000000\n",
       "max         4.000000\n",
       "Name: Bathrooms, dtype: float64"
      ]
     },
     "execution_count": 12,
     "metadata": {},
     "output_type": "execute_result"
    }
   ],
   "source": [
    "# recoding bathrooms\n",
    "df['Bathrooms']=df['FullBath']+df['HalfBath']\n",
    "df['Bathrooms'].describe()"
   ]
  },
  {
   "cell_type": "code",
   "execution_count": 13,
   "id": "compound-dealing",
   "metadata": {},
   "outputs": [
    {
     "data": {
      "text/plain": [
       "count    1438.000000\n",
       "mean     1970.844924\n",
       "std        30.093041\n",
       "min      1872.000000\n",
       "25%      1953.250000\n",
       "50%      1972.000000\n",
       "75%      2000.000000\n",
       "max      2010.000000\n",
       "Name: YearBuilt, dtype: float64"
      ]
     },
     "execution_count": 13,
     "metadata": {},
     "output_type": "execute_result"
    }
   ],
   "source": [
    "# year\n",
    "df['YearBuilt'].describe()"
   ]
  },
  {
   "cell_type": "code",
   "execution_count": 14,
   "id": "floppy-progress",
   "metadata": {},
   "outputs": [
    {
     "data": {
      "text/plain": [
       "SalePrice       0\n",
       "YearBuilt       0\n",
       "Bathrooms       0\n",
       "BedroomAbvGr    0\n",
       "TotalSF         0\n",
       "SingleFam       0\n",
       "GarageArea      0\n",
       "dtype: int64"
      ]
     },
     "execution_count": 14,
     "metadata": {},
     "output_type": "execute_result"
    }
   ],
   "source": [
    "# confirm no missing data\n",
    "df[['SalePrice','YearBuilt','Bathrooms','BedroomAbvGr','TotalSF','SingleFam','GarageArea']].isnull().sum()"
   ]
  },
  {
   "cell_type": "code",
   "execution_count": 15,
   "id": "loving-median",
   "metadata": {},
   "outputs": [
    {
     "data": {
      "text/plain": [
       "SalePrice       int64\n",
       "YearBuilt       int64\n",
       "Bathrooms       int64\n",
       "BedroomAbvGr    int64\n",
       "TotalSF         int64\n",
       "SingleFam       int64\n",
       "GarageArea      int64\n",
       "dtype: object"
      ]
     },
     "execution_count": 15,
     "metadata": {},
     "output_type": "execute_result"
    }
   ],
   "source": [
    "# confirm all numerical\n",
    "df[['SalePrice','YearBuilt','Bathrooms','BedroomAbvGr','TotalSF','SingleFam','GarageArea']].dtypes"
   ]
  },
  {
   "cell_type": "markdown",
   "id": "demonstrated-authentication",
   "metadata": {},
   "source": [
    "## Model Building"
   ]
  },
  {
   "cell_type": "code",
   "execution_count": 16,
   "id": "designing-inventory",
   "metadata": {},
   "outputs": [
    {
     "name": "stdout",
     "output_type": "stream",
     "text": [
      "(1438,) (1438, 6)\n"
     ]
    }
   ],
   "source": [
    "# declare features and target\n",
    "features = ['YearBuilt','Bathrooms','BedroomAbvGr','TotalSF','SingleFam','GarageArea']\n",
    "y = df['SalePrice']\n",
    "X = df[features]\n",
    "print(y.shape, X.shape)"
   ]
  },
  {
   "cell_type": "code",
   "execution_count": 17,
   "id": "resident-poetry",
   "metadata": {},
   "outputs": [],
   "source": [
    "# train-test split\n",
    "X_train, X_test, y_train, y_test = train_test_split(X, y, test_size = .25, random_state=12)"
   ]
  },
  {
   "cell_type": "code",
   "execution_count": 18,
   "id": "lesbian-shelf",
   "metadata": {},
   "outputs": [
    {
     "data": {
      "text/plain": [
       "LinearRegression()"
      ]
     },
     "execution_count": 18,
     "metadata": {},
     "output_type": "execute_result"
    }
   ],
   "source": [
    "# Fit the model to the training dataset\n",
    "mymodel = LinearRegression()\n",
    "mymodel.fit(X_train, y_train)"
   ]
  },
  {
   "cell_type": "code",
   "execution_count": 19,
   "id": "comparable-death",
   "metadata": {},
   "outputs": [
    {
     "data": {
      "text/plain": [
       "array([  593.89586578, 13064.06607432, -7004.92013742,    44.34311249,\n",
       "       22586.49436422,    49.15370749])"
      ]
     },
     "execution_count": 19,
     "metadata": {},
     "output_type": "execute_result"
    }
   ],
   "source": [
    "# coefficients and intercept\n",
    "mymodel.intercept_\n",
    "mymodel.coef_"
   ]
  },
  {
   "cell_type": "code",
   "execution_count": 20,
   "id": "labeled-retreat",
   "metadata": {},
   "outputs": [
    {
     "name": "stdout",
     "output_type": "stream",
     "text": [
      "Regression Equation:  y = -1154949.7078 + 593.8959*YearBuilt + 13064.0661*Bathrooms + -7004.9201*BedroomAbvGr + 44.3431*TotalSF+ 22586.4944*SingleFam+ 49.1537*GarageArea \n"
     ]
    }
   ],
   "source": [
    "# what is the equation for this model?\n",
    "cols=list(X.columns)\n",
    "coefs=list(mymodel.coef_)\n",
    "xcoefs = [(coefs[i], cols[i]) for i in range(0, len(cols))]\n",
    "equation = f'y = {round(mymodel.intercept_,4)} + {round(xcoefs[0][0],4)}*{xcoefs[0][1]} + {round(xcoefs[1][0],4)}*{xcoefs[1][1]} + {round(xcoefs[2][0],4)}*{xcoefs[2][1]} + {round(xcoefs[3][0],4)}*{xcoefs[3][1]}+ {round(xcoefs[4][0],4)}*{xcoefs[4][1]}+ {round(xcoefs[5][0],4)}*{xcoefs[5][1]} '\n",
    "print(\"Regression Equation: \", equation)  "
   ]
  },
  {
   "cell_type": "code",
   "execution_count": 21,
   "id": "published-excellence",
   "metadata": {},
   "outputs": [
    {
     "name": "stdout",
     "output_type": "stream",
     "text": [
      "[132000, 160000, 149700, 82000, 233170]\n",
      "[106997, 89971, 169563, 69318, 230748]\n"
     ]
    }
   ],
   "source": [
    "# Predict the y-values on the testing dataset & examine the first few\n",
    "y_preds = [int(x) for x in mymodel.predict(X_test)]\n",
    "print(list(y_test[:5]))\n",
    "print(y_preds[:5])"
   ]
  },
  {
   "cell_type": "markdown",
   "id": "disturbed-approval",
   "metadata": {},
   "source": [
    "## Model Evaluation"
   ]
  },
  {
   "cell_type": "code",
   "execution_count": 22,
   "id": "circular-business",
   "metadata": {},
   "outputs": [
    {
     "data": {
      "image/png": "[encoded data removed]",
      "text/plain": [
       "<Figure size 432x432 with 1 Axes>"
      ]
     },
     "metadata": {
      "needs_background": "light"
     },
     "output_type": "display_data"
    }
   ],
   "source": [
    "# compare predictions to known values\n",
    "plt.figure(figsize=(6,6))\n",
    "ax = sns.regplot(x = y_preds, \n",
    "                 y = y_test, \n",
    "                 scatter_kws={\"color\": \"black\"}, \n",
    "                 line_kws={\"color\": \"red\"})\n",
    "ax.set(xlabel='predicted values', ylabel='true values');"
   ]
  },
  {
   "cell_type": "code",
   "execution_count": 23,
   "id": "adjustable-lingerie",
   "metadata": {},
   "outputs": [
    {
     "data": {
      "text/plain": [
       "0.7"
      ]
     },
     "execution_count": 23,
     "metadata": {},
     "output_type": "execute_result"
    }
   ],
   "source": [
    "# R-2 (coefficient of determination)\n",
    "r2 = metrics.r2_score(y_test, y_preds)\n",
    "round(r2, 2)"
   ]
  },
  {
   "cell_type": "code",
   "execution_count": 24,
   "id": "tracked-bankruptcy",
   "metadata": {},
   "outputs": [
    {
     "data": {
      "text/plain": [
       "38734.440659372434"
      ]
     },
     "execution_count": 24,
     "metadata": {},
     "output_type": "execute_result"
    }
   ],
   "source": [
    "# root mean sq error\n",
    "rmse = sqrt(metrics.mean_squared_error(y_test, y_preds))\n",
    "rmse"
   ]
  },
  {
   "cell_type": "code",
   "execution_count": 25,
   "id": "billion-focus",
   "metadata": {},
   "outputs": [
    {
     "name": "stdout",
     "output_type": "stream",
     "text": [
      "71241.69\n",
      "38734.44\n",
      "improvement: -32507.25\n"
     ]
    }
   ],
   "source": [
    "# is that more or less than if we just used the average as our model?\n",
    "avg_val = y_train.mean()\n",
    "comparison = np.full((len(y_test), ), avg_val)\n",
    "baseline=sqrt(metrics.mean_squared_error(y_test, comparison))\n",
    "print(round(baseline,2))\n",
    "print(round(rmse,2))\n",
    "print('improvement:',round(rmse-baseline,2))"
   ]
  },
  {
   "cell_type": "markdown",
   "id": "dried-history",
   "metadata": {},
   "source": [
    "## Make new predictions"
   ]
  },
  {
   "cell_type": "code",
   "execution_count": 26,
   "id": "regulated-revelation",
   "metadata": {},
   "outputs": [
    {
     "name": "stdout",
     "output_type": "stream",
     "text": [
      "y = -1154949.7078 + 593.8959*YearBuilt + 13064.0661*Bathrooms + -7004.9201*BedroomAbvGr + 44.3431*TotalSF+ 22586.4944*SingleFam+ 49.1537*GarageArea \n"
     ]
    }
   ],
   "source": [
    "# remember the linear regression equation?\n",
    "print(equation)"
   ]
  },
  {
   "cell_type": "code",
   "execution_count": 27,
   "id": "hindu-valentine",
   "metadata": {},
   "outputs": [],
   "source": [
    "# make some fake data\n",
    "fake1= [[2010, 2, 3, 2000, 1,0]] # modest SF home\n",
    "fake2= [[2015, 3, 5, 4000, 1,1]] # large SF home in big neighborhood\n",
    "fake3= [[1980, 1, 2, 1000, 0,0]] # small home, not SF, outside big neighborhood"
   ]
  },
  {
   "cell_type": "code",
   "execution_count": 28,
   "id": "controversial-reproduction",
   "metadata": {},
   "outputs": [
    {
     "name": "stdout",
     "output_type": "stream",
     "text": [
      "$ 155167\n",
      "$ 245926\n",
      "$ 64361\n"
     ]
    }
   ],
   "source": [
    "# make predictions just using our equation:\n",
    "for data in [fake1, fake2, fake3]:\n",
    "    YearBuilt=data[0][0]\n",
    "    Bathrooms=data[0][1]\n",
    "    BedroomAbvGr=data[0][2]\n",
    "    TotalSF=data[0][3]\n",
    "    SingleFam=data[0][4]\n",
    "    GarageArea=data[0][5]\n",
    "    y = -1154949.7078 + 593.8959*YearBuilt + 13064.0661*Bathrooms + -7004.9201*BedroomAbvGr + 44.3431*TotalSF+ 22586.4944*SingleFam+ 49.1537*GarageArea\n",
    "    print('$',int(y))"
   ]
  },
  {
   "cell_type": "code",
   "execution_count": 29,
   "id": "reverse-strength",
   "metadata": {},
   "outputs": [],
   "source": [
    "# pickle your model\n",
    "import pickle\n",
    "filename = open('ames_housing_lr_model_2.pkl', 'wb')\n",
    "pickle.dump(mymodel, filename)\n",
    "filename.close()"
   ]
  },
  {
   "cell_type": "code",
   "execution_count": 30,
   "id": "ruled-admission",
   "metadata": {},
   "outputs": [],
   "source": [
    "## read in our pickle file\n",
    "filename = open('ames_housing_lr_model_2.pkl', 'rb')\n",
    "unpickled_model = pickle.load(filename)\n",
    "filename.close()"
   ]
  },
  {
   "cell_type": "code",
   "execution_count": 31,
   "id": "announced-manner",
   "metadata": {},
   "outputs": [
    {
     "name": "stdout",
     "output_type": "stream",
     "text": [
      "$ 155167\n",
      "$ 245926\n",
      "$ 64361\n"
     ]
    },
    {
     "name": "stderr",
     "output_type": "stream",
     "text": [
      "/home/studio-lab-user/.conda/envs/default/lib/python3.9/site-packages/sklearn/base.py:450: UserWarning: X does not have valid feature names, but LinearRegression was fitted with feature names\n",
      "  warnings.warn(\n",
      "/home/studio-lab-user/.conda/envs/default/lib/python3.9/site-packages/sklearn/base.py:450: UserWarning: X does not have valid feature names, but LinearRegression was fitted with feature names\n",
      "  warnings.warn(\n",
      "/home/studio-lab-user/.conda/envs/default/lib/python3.9/site-packages/sklearn/base.py:450: UserWarning: X does not have valid feature names, but LinearRegression was fitted with feature names\n",
      "  warnings.warn(\n"
     ]
    }
   ],
   "source": [
    "# make predictions\n",
    "for data in [fake1, fake2, fake3]:\n",
    "    print('$',int(unpickled_model.predict(data)))"
   ]
  },
  {
   "cell_type": "markdown",
   "id": "thorough-services",
   "metadata": {},
   "source": [
    "## Turn that into a function"
   ]
  },
  {
   "cell_type": "code",
   "execution_count": 37,
   "id": "overall-incentive",
   "metadata": {},
   "outputs": [],
   "source": [
    "def ames_lr_function(YearBuilt,Bathrooms,BedroomAbvGr,TotalSF,SingleFam,GarageArea):\n",
    "    checksum=0\n",
    "    for var in [YearBuilt,Bathrooms,BedroomAbvGr,TotalSF,SingleFam,GarageArea]:\n",
    "        if isinstance(var,int)==False:\n",
    "            checksum+=1\n",
    "    if (YearBuilt<1900)|(YearBuilt>2020):\n",
    "        checksum+=1\n",
    "    if (Bathrooms<1) | (Bathrooms>5):\n",
    "        checksum+=1\n",
    "    if (BedroomAbvGr<1) | (BedroomAbvGr>5):\n",
    "        checksum+=1\n",
    "    if (TotalSF<100)|(TotalSF>5000):\n",
    "        checksum+=1\n",
    "    if (SingleFam!=0) & (SingleFam!=1):\n",
    "        checksum+=1\n",
    "    if (GarageArea<0) | (GarageArea>1481):\n",
    "        checksum+=1\n",
    "    if checksum>0:\n",
    "        return \"Please provide adequate inputs\"\n",
    "    else:\n",
    "        y = [-1154949.7078 + 593.8959*YearBuilt + 13064.0661*Bathrooms + -7004.9201*BedroomAbvGr + 44.3431*TotalSF+ 22586.4944*SingleFam+ 49.1537*GarageArea]\n",
    "#         y = unpickled_model.predict([[YearBuilt,Bathrooms,BedroomAbvGr,TotalSF,SingleFam,LargeNeighborhood]])\n",
    "        formatted_y = \"${:,.2f}\".format(y[0])\n",
    "        return formatted_y "
   ]
  },
  {
   "cell_type": "code",
   "execution_count": 38,
   "id": "annoying-white",
   "metadata": {},
   "outputs": [
    {
     "data": {
      "text/plain": [
       "'$194,798.39'"
      ]
     },
     "execution_count": 38,
     "metadata": {},
     "output_type": "execute_result"
    }
   ],
   "source": [
    "# test the function\n",
    "YearBuilt=2010\n",
    "Bathrooms=3\n",
    "BedroomAbvGr=3\n",
    "TotalSF=2000\n",
    "SingleFam=0\n",
    "GarageArea=1000\n",
    "ames_lr_function(YearBuilt,Bathrooms,BedroomAbvGr,TotalSF,SingleFam,GarageArea)"
   ]
  },
  {
   "cell_type": "code",
   "execution_count": null,
   "id": "9803efc6-ecd4-4e24-bac9-9d58fc4527fb",
   "metadata": {},
   "outputs": [],
   "source": []
  }
 ],
 "metadata": {
  "kernelspec": {
   "display_name": "default:Python",
   "language": "python",
   "name": "conda-env-default-py"
  },
  "language_info": {
   "codemirror_mode": {
    "name": "ipython",
    "version": 3
   },
   "file_extension": ".py",
   "mimetype": "text/x-python",
   "name": "python",
   "nbconvert_exporter": "python",
   "pygments_lexer": "ipython3",
   "version": "3.9.12"
  }
 },
 "nbformat": 4,
 "nbformat_minor": 5
}
